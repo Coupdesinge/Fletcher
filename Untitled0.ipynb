{
 "metadata": {
  "name": "",
  "signature": "sha256:b83f34518bfeb3af148dde0f8d01084764c58e301b54aa53e84be3ceb4153db3"
 },
 "nbformat": 3,
 "nbformat_minor": 0,
 "worksheets": [
  {
   "cells": [
    {
     "cell_type": "code",
     "collapsed": false,
     "input": [
      "%load_ext autoreload\n",
      "%autoreload 2\n",
      "# import star_sentiment\n",
      "#from star_sentiment import *\n",
      "from star_sentiment import GetReviews, Cluster"
     ],
     "language": "python",
     "metadata": {},
     "outputs": [
      {
       "output_type": "stream",
       "stream": "stdout",
       "text": [
        "The autoreload extension is already loaded. To reload it, use:\n",
        "  %reload_ext autoreload\n"
       ]
      },
      {
       "output_type": "stream",
       "stream": "stderr",
       "text": [
        "/usr/local/lib/python2.7/site-packages/scipy/spatial/__init__.py:90: RuntimeWarning: numpy.dtype size changed, may indicate binary incompatibility\n",
        "  from .ckdtree import *\n",
        "/usr/local/lib/python2.7/site-packages/scipy/spatial/__init__.py:90: RuntimeWarning: numpy.ufunc size changed, may indicate binary incompatibility\n",
        "  from .ckdtree import *\n",
        "/usr/local/lib/python2.7/site-packages/scipy/spatial/__init__.py:91: RuntimeWarning: numpy.dtype size changed, may indicate binary incompatibility\n",
        "  from .qhull import *\n",
        "/usr/local/lib/python2.7/site-packages/scipy/spatial/__init__.py:91: RuntimeWarning: numpy.ufunc size changed, may indicate binary incompatibility\n",
        "  from .qhull import *\n",
        "/usr/local/lib/python2.7/site-packages/scipy/interpolate/interpolate.py:28: RuntimeWarning: numpy.dtype size changed, may indicate binary incompatibility\n",
        "  from . import _ppoly\n",
        "/usr/local/lib/python2.7/site-packages/scipy/interpolate/interpolate.py:28: RuntimeWarning: numpy.ufunc size changed, may indicate binary incompatibility\n",
        "  from . import _ppoly\n"
       ]
      }
     ],
     "prompt_number": 2
    },
    {
     "cell_type": "code",
     "collapsed": false,
     "input": [],
     "language": "python",
     "metadata": {},
     "outputs": [
      {
       "output_type": "stream",
       "stream": "stdout",
       "text": [
        "LDA.ipynb             Untitled0.ipynb       preliminary.ipynb     star_sentiment.pyc    yelp_data_pull.ipynb\r\n",
        "README.md             \u001b[1m\u001b[36mpicklefiles\u001b[m\u001b[m/          star_sentiment.py     top_grossing.py\r\n"
       ]
      }
     ],
     "prompt_number": 5
    },
    {
     "cell_type": "code",
     "collapsed": false,
     "input": [
      "tdict = GetReviews().get_reviews('picklefiles/user_1.pck')"
     ],
     "language": "python",
     "metadata": {},
     "outputs": [],
     "prompt_number": 3
    },
    {
     "cell_type": "code",
     "collapsed": false,
     "input": [
      "len(tdict[1])"
     ],
     "language": "python",
     "metadata": {},
     "outputs": [
      {
       "metadata": {},
       "output_type": "pyout",
       "prompt_number": 4,
       "text": [
        "17"
       ]
      }
     ],
     "prompt_number": 4
    },
    {
     "cell_type": "code",
     "collapsed": false,
     "input": [
      "rdict = Cluster().test_cluster(tdict)"
     ],
     "language": "python",
     "metadata": {},
     "outputs": [],
     "prompt_number": 5
    },
    {
     "cell_type": "code",
     "collapsed": false,
     "input": [
      "len(rdict)"
     ],
     "language": "python",
     "metadata": {},
     "outputs": [
      {
       "metadata": {},
       "output_type": "pyout",
       "prompt_number": 6,
       "text": [
        "2"
       ]
      }
     ],
     "prompt_number": 6
    },
    {
     "cell_type": "code",
     "collapsed": false,
     "input": [
      "from operator import itemgetter\n",
      "sorted_sentences = sorted(rdict[1], key=itemgetter(1))\n",
      "\n",
      "import pprint\n",
      "pprint.pprint( sorted_sentences )\n",
      "print '-----'\n",
      "#pprint.pprint( sorted_sentences[-6:] )\n"
     ],
     "language": "python",
     "metadata": {},
     "outputs": [
      {
       "output_type": "stream",
       "stream": "stdout",
       "text": [
        "[(Sentence(\"we dont care about the comedy show, we just want to use our groupon....well eat and get out of there before the stupid comedy show starts.\"\"),\n",
        "  -0.7999999999999999,\n",
        "  1.0),\n",
        " (Sentence(\"then we went to go use another one the other day and *bam* its gone!\"),\n",
        "  -0.15625,\n",
        "  0.375),\n",
        " (Sentence(\"i calmed down and went on my way.\"),\n",
        "  -0.15555555555555559,\n",
        "  0.2888888888888889),\n",
        " (Sentence(\"groupon brought me to this joint....and been here several times over the past few months.\"),\n",
        "  -0.15,\n",
        "  0.11666666666666665),\n",
        " (Sentence(\"we went there to have dinner the other day and saw that it was closed.\"),\n",
        "  -0.1125,\n",
        "  0.2375),\n",
        " (Sentence(\"the guy at the front door says \"sorry, no groupons today, it says there right on the door\" me - \"the groupon says sun-thu.\"\"),\n",
        "  -0.10714285714285715,\n",
        "  0.7678571428571428),\n",
        " (Sentence(\"we went by tonight to give it a try....theyre closed.\"),\n",
        "  -0.1,\n",
        "  0.1),\n",
        " (Sentence(\"its closed.\"), -0.1, 0.1),\n",
        " (Sentence(\"we went back recently and discovered its closed now.\"),\n",
        "  -0.03333333333333333,\n",
        "  0.11666666666666665),\n",
        " (Sentence(\"went back to use my 3rd groupon and the place was closed for business.\"),\n",
        "  -0.03333333333333333,\n",
        "  0.03333333333333333),\n",
        " (Sentence(\"another groupon casualty!\"), 0.0, 0.0),\n",
        " (Sentence(\"i bought several groupons for this location and used only one.\"),\n",
        "  0.0,\n",
        "  0.5),\n",
        " (Sentence(\"showed up at 7:05 pm on a thu night to use a groupon.\"), 0.0, 0.0),\n",
        " (Sentence(\"i promptly emailed groupon and requested a refund, which they promptly gave to me within 12 hrs.\"),\n",
        "  0.0,\n",
        "  0.0),\n",
        " (Sentence(\"another groupon casualty.\"), 0.0, 0.0),\n",
        " (Sentence(\"i think groupon did them in...they always had deals out there, how could they make any profits?\"),\n",
        "  0.0,\n",
        "  0.0),\n",
        " (Sentence(\"purchased 3 groupons for this place and used 2 of them.\"),\n",
        "  0.0,\n",
        "  0.0),\n",
        " (Sentence(\"i bought groupons for this place that expired on 4/20.\"),\n",
        "  0.0,\n",
        "  0.0),\n",
        " (Sentence(\"we went there tonight for dinner and *bam*, there was a notice on the door that the place was being repossessed by the property owner.\"),\n",
        "  0.0,\n",
        "  0.0),\n",
        " (Sentence(\"me - \"we checked the website before we drove all the way down here just so we can get notified at the door about a special event?!\"),\n",
        "  0.14543650793650792,\n",
        "  0.4301587301587302),\n",
        " (Sentence(\"i found a decent deal for $30 a day for a compact car.....i thought i was getting a score.....then, i went to get the car.\"),\n",
        "  0.16666666666666666,\n",
        "  0.6666666666666666),\n",
        " (Sentence(\"another victim of groupon.....so many deals on groupon are from restaurants that go under.\"),\n",
        "  0.2125,\n",
        "  0.275),\n",
        " (Sentence(\"him - \"the groupon also says not valid on special events.\"),\n",
        "  0.35714285714285715,\n",
        "  0.5714285714285714),\n",
        " (Sentence(\"tonight is a special event.\"\"),\n",
        "  0.35714285714285715,\n",
        "  0.5714285714285714),\n",
        " (Sentence(\"the website doesnt say anything about a special event tonight.\"),\n",
        "  0.35714285714285715,\n",
        "  0.5714285714285714),\n",
        " (Sentence(\"what a sham....we drove all the way to this dump just to be notified at the door that its a special event?!\"),\n",
        "  0.44642857142857145,\n",
        "  0.5714285714285714)]\n",
        "-----\n"
       ]
      }
     ],
     "prompt_number": 18
    },
    {
     "cell_type": "code",
     "collapsed": false,
     "input": [
      "import nltk\n",
      "from textblob import TextBlob\n",
      "import numpy as np\n",
      "from sklearn.feature_extraction.text import TfidfVectorizer\n",
      "from sklearn.cluster import KMeans"
     ],
     "language": "python",
     "metadata": {},
     "outputs": [],
     "prompt_number": 15
    },
    {
     "cell_type": "code",
     "collapsed": false,
     "input": [
      "vectorizer = TfidfVectorizer(stop_words=\"english\", ngram_range=(1,1))\n",
      "fivestar_vectors = vectorizer.fit_transform(tdict[5])\n",
      "fourstar_vectors = vectorizer.fit_transform(tdict[4])\n",
      "threestar_vectors = vectorizer.fit_transform(tdict[3])\n",
      "twostar_vectors = vectorizer.fit_transform(tdict[2])\n",
      "onestar_vectors = vectorizer.fit_transform(tdict[1])"
     ],
     "language": "python",
     "metadata": {},
     "outputs": [],
     "prompt_number": 19
    },
    {
     "cell_type": "code",
     "collapsed": false,
     "input": [
      "km = KMeans()\n",
      "cluster = km.fit(fivestar_vectors)"
     ],
     "language": "python",
     "metadata": {},
     "outputs": [],
     "prompt_number": 20
    },
    {
     "cell_type": "code",
     "collapsed": false,
     "input": [
      "set(cluster.labels_)"
     ],
     "language": "python",
     "metadata": {},
     "outputs": [
      {
       "metadata": {},
       "output_type": "pyout",
       "prompt_number": 21,
       "text": [
        "{0, 1, 2, 3, 4, 5, 6, 7}"
       ]
      }
     ],
     "prompt_number": 21
    },
    {
     "cell_type": "code",
     "collapsed": false,
     "input": [
      "cluster = cluster.predict(fivestar_vectors)"
     ],
     "language": "python",
     "metadata": {},
     "outputs": [],
     "prompt_number": 22
    },
    {
     "cell_type": "code",
     "collapsed": false,
     "input": [
      "reviews = []\n",
      "for i in range(0, len(tdict[5])):\n",
      "    reviews.append((cluster[i], tdict[5][i]))\n",
      "    \n",
      "# for i in range(2):\n",
      "#     print i, len([c[1] for c in reviews if c[0] == i])"
     ],
     "language": "python",
     "metadata": {},
     "outputs": [],
     "prompt_number": 24
    },
    {
     "cell_type": "code",
     "collapsed": false,
     "input": [
      "for i in range(8):\n",
      "    print i, len([c[1] for c in reviews if c[0] == i])"
     ],
     "language": "python",
     "metadata": {},
     "outputs": [
      {
       "output_type": "stream",
       "stream": "stdout",
       "text": [
        "0 5\n",
        "1 31\n",
        "2 10\n",
        "3 41\n",
        "4 37\n",
        "5 33\n",
        "6 12\n",
        "7 14\n"
       ]
      }
     ],
     "prompt_number": 27
    },
    {
     "cell_type": "code",
     "collapsed": false,
     "input": [
      "from itertools import izip \n",
      "for i in range(8):\n",
      "    v = vectorizer.fit_transform([c[1] for c in reviews if c[0] == i])\n",
      "    print(\"Top 5 words in cluster{}\".format(i+1))\n",
      "    words = v[i].data.argsort()[-5:]\n",
      "   \n",
      "    for (j,k) in izip(v[i].indices[words], v[i].data[words]):\n",
      "        print(\"\\tWord: {}, TF-IDF: {}\".format(vectorizer.get_feature_names()[j], k))"
     ],
     "language": "python",
     "metadata": {},
     "outputs": [
      {
       "output_type": "stream",
       "stream": "stdout",
       "text": [
        "Top 5 words in cluster1\n",
        "\tWord: shelter, TF-IDF: 0.201619654219\n",
        "\tWord: heard, TF-IDF: 0.249902364566\n",
        "\tWord: facility, TF-IDF: 0.249902364566\n",
        "\tWord: need, TF-IDF: 0.249902364566\n",
        "\tWord: families, TF-IDF: 0.249902364566\n",
        "Top 5 words in cluster2\n",
        "\tWord: pepper, TF-IDF: 0.221004374737\n",
        "\tWord: fork, TF-IDF: 0.23352146436\n",
        "\tWord: roaring, TF-IDF: 0.23352146436\n",
        "\tWord: queso, TF-IDF: 0.260529206516\n",
        "\tWord: pork, TF-IDF: 0.312635047819\n",
        "Top 5 words in cluster3\n",
        "\tWord: truck, TF-IDF: 0.219540083308\n",
        "\tWord: diamond, TF-IDF: 0.219540083308\n",
        "\tWord: away, TF-IDF: 0.219540083308\n",
        "\tWord: summer, TF-IDF: 0.219540083308\n",
        "\tWord: food, TF-IDF: 0.279943691983\n",
        "Top 5 words in cluster4\n",
        "\tWord: grain, TF-IDF: 0.169748662035\n",
        "\tWord: flatbread, TF-IDF: 0.169748662035\n",
        "\tWord: brew, TF-IDF: 0.188662120486\n",
        "\tWord: cereal, TF-IDF: 0.282993180729\n",
        "\tWord: chocolate, TF-IDF: 0.377324240972\n",
        "Top 5 words in cluster5"
       ]
      },
      {
       "output_type": "stream",
       "stream": "stdout",
       "text": [
        "\n",
        "\tWord: lasagna, TF-IDF: 0.193831119149\n",
        "\tWord: idea, TF-IDF: 0.193831119149\n",
        "\tWord: manager, TF-IDF: 0.193831119149\n",
        "\tWord: luncheon, TF-IDF: 0.193831119149\n",
        "\tWord: didnt, TF-IDF: 0.279689849552\n",
        "Top 5 words in cluster6\n",
        "\tWord: tasted, TF-IDF: 0.240982012869\n",
        "\tWord: syrup, TF-IDF: 0.240982012869\n",
        "\tWord: toast, TF-IDF: 0.27342571433\n",
        "\tWord: french, TF-IDF: 0.294342685065\n",
        "\tWord: raspberry, TF-IDF: 0.359316730721\n",
        "Top 5 words in cluster7\n",
        "\tWord: bring, TF-IDF: 0.18560189514\n",
        "\tWord: exclusive, TF-IDF: 0.18560189514\n",
        "\tWord: sure, TF-IDF: 0.27840284271\n",
        "\tWord: make, TF-IDF: 0.27840284271\n",
        "\tWord: course, TF-IDF: 0.325110425356\n",
        "Top 5 words in cluster8\n",
        "\tWord: house, TF-IDF: 0.246319257167\n",
        "\tWord: carts, TF-IDF: 0.246319257167\n",
        "\tWord: clean, TF-IDF: 0.246319257167\n",
        "\tWord: selection, TF-IDF: 0.246319257167\n",
        "\tWord: shopping, TF-IDF: 0.246319257167\n"
       ]
      }
     ],
     "prompt_number": 29
    },
    {
     "cell_type": "code",
     "collapsed": false,
     "input": [
      "[c[1] for c in reviews if c[0] == i]"
     ],
     "language": "python",
     "metadata": {},
     "outputs": []
    },
    {
     "cell_type": "code",
     "collapsed": false,
     "input": [
      "sentences = []\n",
      "for i in [c[1] for c in reviews if c[0] == 7]:\n",
      "    for s in TextBlob(i).sentences:\n",
      "        sentences.append(s)"
     ],
     "language": "python",
     "metadata": {},
     "outputs": [],
     "prompt_number": 70
    },
    {
     "cell_type": "code",
     "collapsed": false,
     "input": [
      "best= []\n",
      "top_words = ['house', 'carts', 'clean', 'selection', 'shopping']\n",
      "for s in sentences:\n",
      "    for w in top_words:\n",
      "        if w in s:\n",
      "            best.append(s)\n",
      "            break"
     ],
     "language": "python",
     "metadata": {},
     "outputs": [],
     "prompt_number": 71
    },
    {
     "cell_type": "code",
     "collapsed": false,
     "input": [
      "best"
     ],
     "language": "python",
     "metadata": {},
     "outputs": [
      {
       "metadata": {},
       "output_type": "pyout",
       "prompt_number": 72,
       "text": [
        "[Sentence(\"just got back from shopping at this albertsons.\"),\n",
        " Sentence(\"it was my first trip here....its kind of out of my way but is on the route home from my colleagues house, so i decided to give it a shot after i left his house.\"),\n",
        " Sentence(\"its getting 5 stars from me.....heres why: - its new and very clean.\"),\n",
        " Sentence(\"- its large and has a good selection of food items.\"),\n",
        " Sentence(\"- the alcohol section is larger than most supermarkets and offers a larger selection of wine than most.\"),\n",
        " Sentence(\"- their carts are clean and in good condition.\"),\n",
        " Sentence(\"nothing makes me more frustrated when im at the grocery store than junky shopping carts.\")]"
       ]
      }
     ],
     "prompt_number": 72
    },
    {
     "cell_type": "code",
     "collapsed": false,
     "input": [
      "for s in best:\n",
      "    f = s.sentiment\n",
      "    print(\"\\tPolarity: {}, Subjectivity: {}\".format(f.polarity, f.subjectivity))\n",
      "    print s"
     ],
     "language": "python",
     "metadata": {},
     "outputs": [
      {
       "output_type": "stream",
       "stream": "stdout",
       "text": [
        "\tPolarity: 0.0, Subjectivity: 0.0\n",
        "just got back from shopping at this albertsons.\n",
        "\tPolarity: 0.283333333333, Subjectivity: 0.411111111111\n",
        "it was my first trip here....its kind of out of my way but is on the route home from my colleagues house, so i decided to give it a shot after i left his house.\n",
        "\tPolarity: 0.306515151515, Subjectivity: 0.682272727273\n",
        "its getting 5 stars from me.....heres why: - its new and very clean.\n",
        "\tPolarity: 0.457142857143, Subjectivity: 0.514285714286\n",
        "- its large and has a good selection of food items.\n",
        "\tPolarity: 0.22, Subjectivity: 0.4\n",
        "- the alcohol section is larger than most supermarkets and offers a larger selection of wine than most.\n",
        "\tPolarity: 0.533333333333, Subjectivity: 0.65\n",
        "- their carts are clean and in good condition.\n",
        "\tPolarity: -0.1, Subjectivity: 0.35\n",
        "nothing makes me more frustrated when im at the grocery store than junky shopping carts.\n"
       ]
      }
     ],
     "prompt_number": 73
    },
    {
     "cell_type": "code",
     "collapsed": false,
     "input": [
      "neg = -0.1 + -0.101785714286 + -0.116666666667 + -0.0982142857143 + -0.1 + -0.5 + 0.0104761904762 + -1.0"
     ],
     "language": "python",
     "metadata": {},
     "outputs": [],
     "prompt_number": 75
    },
    {
     "cell_type": "code",
     "collapsed": false,
     "input": [
      "neg/8"
     ],
     "language": "python",
     "metadata": {},
     "outputs": [
      {
       "metadata": {},
       "output_type": "pyout",
       "prompt_number": 77,
       "text": [
        "-0.2507738095238875"
       ]
      }
     ],
     "prompt_number": 77
    },
    {
     "cell_type": "code",
     "collapsed": false,
     "input": [
      "pos = 0.825 + 0.25 + 0.306515151515 + 0.5 + 1.0 + 0.91 + 0.875 + 0.65"
     ],
     "language": "python",
     "metadata": {},
     "outputs": [],
     "prompt_number": 78
    },
    {
     "cell_type": "code",
     "collapsed": false,
     "input": [
      "pos\n"
     ],
     "language": "python",
     "metadata": {},
     "outputs": [
      {
       "metadata": {},
       "output_type": "pyout",
       "prompt_number": 79,
       "text": [
        "5.316515151515"
       ]
      }
     ],
     "prompt_number": 79
    },
    {
     "cell_type": "code",
     "collapsed": false,
     "input": [
      "pos/8"
     ],
     "language": "python",
     "metadata": {},
     "outputs": [
      {
       "metadata": {},
       "output_type": "pyout",
       "prompt_number": 80,
       "text": [
        "0.664564393939375"
       ]
      }
     ],
     "prompt_number": 80
    },
    {
     "cell_type": "code",
     "collapsed": false,
     "input": [
      "range(0,2)"
     ],
     "language": "python",
     "metadata": {},
     "outputs": [
      {
       "output_type": "stream",
       "stream": "stderr",
       "text": [
        "[autoreload of star_sentiment failed: Traceback (most recent call last):\n",
        "  File \"/usr/local/lib/python2.7/site-packages/IPython/extensions/autoreload.py\", line 247, in check\n",
        "    superreload(m, reload, self.old_objects)\n",
        "  File \"star_sentiment.py\", line 100\n",
        "    tfidf_lists[key]=#the 5 highest tfidf words\n",
        "                                              ^\n",
        "SyntaxError: invalid syntax\n",
        "]\n"
       ]
      },
      {
       "metadata": {},
       "output_type": "pyout",
       "prompt_number": 10,
       "text": [
        "[0, 1]"
       ]
      }
     ],
     "prompt_number": 10
    },
    {
     "cell_type": "code",
     "collapsed": false,
     "input": [
      "v = [1,2,1]"
     ],
     "language": "python",
     "metadata": {},
     "outputs": [],
     "prompt_number": 12
    },
    {
     "cell_type": "code",
     "collapsed": false,
     "input": [
      "len(v)\n"
     ],
     "language": "python",
     "metadata": {},
     "outputs": [
      {
       "metadata": {},
       "output_type": "pyout",
       "prompt_number": 14,
       "text": [
        "3"
       ]
      }
     ],
     "prompt_number": 14
    },
    {
     "cell_type": "code",
     "collapsed": false,
     "input": [
      "range(1, len(v)+1)"
     ],
     "language": "python",
     "metadata": {},
     "outputs": [
      {
       "metadata": {},
       "output_type": "pyout",
       "prompt_number": 16,
       "text": [
        "[1, 2, 3]"
       ]
      }
     ],
     "prompt_number": 16
    },
    {
     "cell_type": "code",
     "collapsed": false,
     "input": [
      "''.join('a')"
     ],
     "language": "python",
     "metadata": {},
     "outputs": [
      {
       "metadata": {},
       "output_type": "pyout",
       "prompt_number": 11,
       "text": [
        "'a'"
       ]
      }
     ],
     "prompt_number": 11
    },
    {
     "cell_type": "code",
     "collapsed": false,
     "input": [
      "'a'.join('c')"
     ],
     "language": "python",
     "metadata": {},
     "outputs": [
      {
       "metadata": {},
       "output_type": "pyout",
       "prompt_number": 12,
       "text": [
        "'c'"
       ]
      }
     ],
     "prompt_number": 12
    },
    {
     "cell_type": "code",
     "collapsed": false,
     "input": [
      "d = {'a': 1, 'b':2}"
     ],
     "language": "python",
     "metadata": {},
     "outputs": [],
     "prompt_number": 14
    },
    {
     "cell_type": "code",
     "collapsed": false,
     "input": [
      "[d[i] for i in d.keys()]"
     ],
     "language": "python",
     "metadata": {},
     "outputs": [
      {
       "metadata": {},
       "output_type": "pyout",
       "prompt_number": 17,
       "text": [
        "[1, 2]"
       ]
      }
     ],
     "prompt_number": 17
    },
    {
     "cell_type": "code",
     "collapsed": false,
     "input": [
      "d = {1:['a', 'b'], 2:['b', 'c'], 3:['c', 'v']}"
     ],
     "language": "python",
     "metadata": {},
     "outputs": [],
     "prompt_number": 38
    },
    {
     "cell_type": "code",
     "collapsed": false,
     "input": [
      "[d[i] for i in d.keys()]"
     ],
     "language": "python",
     "metadata": {},
     "outputs": [
      {
       "metadata": {},
       "output_type": "pyout",
       "prompt_number": 39,
       "text": [
        "[['a', 'b'], ['b', 'c'], ['c', 'v']]"
       ]
      }
     ],
     "prompt_number": 39
    },
    {
     "cell_type": "code",
     "collapsed": false,
     "input": [
      "l = []"
     ],
     "language": "python",
     "metadata": {},
     "outputs": [],
     "prompt_number": 40
    },
    {
     "cell_type": "code",
     "collapsed": false,
     "input": [
      "[' '.join(d[i]) for i in d.keys()]"
     ],
     "language": "python",
     "metadata": {},
     "outputs": [
      {
       "metadata": {},
       "output_type": "pyout",
       "prompt_number": 43,
       "text": [
        "['a b', 'b c', 'c v']"
       ]
      }
     ],
     "prompt_number": 43
    },
    {
     "cell_type": "code",
     "collapsed": false,
     "input": [
      "l"
     ],
     "language": "python",
     "metadata": {},
     "outputs": [
      {
       "metadata": {},
       "output_type": "pyout",
       "prompt_number": 33,
       "text": [
        "[<generator object <genexpr> at 0x10b90c8c0>,\n",
        " <generator object <genexpr> at 0x10b339460>,\n",
        " <generator object <genexpr> at 0x10b339370>]"
       ]
      }
     ],
     "prompt_number": 33
    },
    {
     "cell_type": "code",
     "collapsed": false,
     "input": [
      "l"
     ],
     "language": "python",
     "metadata": {},
     "outputs": [
      {
       "metadata": {},
       "output_type": "pyout",
       "prompt_number": 23,
       "text": [
        "[<generator object <genexpr> at 0x10b90c8c0>]"
       ]
      }
     ],
     "prompt_number": 23
    },
    {
     "cell_type": "code",
     "collapsed": false,
     "input": [
      "testdict = {1:[('sentence one', 0.1), 'sentence one', -0.1)], 2:[('sentence two', -0.41), ('sentence two', 0.21)], 3:[('sentence three')], 4:[('sentence four')], 5:[('sentence five')]}"
     ],
     "language": "python",
     "metadata": {},
     "outputs": []
    }
   ],
   "metadata": {}
  }
 ]
}