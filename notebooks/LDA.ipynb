{
 "metadata": {
  "name": "",
  "signature": "sha256:c6899080d125daeeb4f4d4632bbe557ea870b6dacf8c5949c58064d63c4f8030"
 },
 "nbformat": 3,
 "nbformat_minor": 0,
 "worksheets": [
  {
   "cells": [
    {
     "cell_type": "code",
     "collapsed": false,
     "input": [
      "import pickle\n",
      "with open('picklefiles/user_1.pck', 'r') as picklefile:\n",
      "    data = pickle.load(picklefile)\n"
     ],
     "language": "python",
     "metadata": {},
     "outputs": [],
     "prompt_number": 2
    },
    {
     "cell_type": "code",
     "collapsed": false,
     "input": [
      "from collections import defaultdict"
     ],
     "language": "python",
     "metadata": {},
     "outputs": [],
     "prompt_number": 4
    },
    {
     "cell_type": "code",
     "collapsed": false,
     "input": [
      "import re\n",
      "no_apostros = {\n",
      "    \"'\": \"\",\n",
      "    \"\\'\": \"\", \n",
      "    \"\\n\": \" \",\n",
      "    \"&\": \"and\"\n",
      "}\n",
      "\n",
      "apostros_re = re.compile('(%s)' % '|'.join(no_apostros.keys()))\n",
      "def no_apostrophes(s, no_apostros=no_apostros):\n",
      "     def replace(match):\n",
      "         return no_apostros[match.group(0)]\n",
      "     return apostros_re.sub(replace, s)"
     ],
     "language": "python",
     "metadata": {},
     "outputs": [],
     "prompt_number": 9
    },
    {
     "cell_type": "code",
     "collapsed": false,
     "input": [
      "user = defaultdict(list)\n",
      "for d in data:\n",
      "    user[d['stars']].append( no_apostrophes(((d['text'].split('\\n\\nReturn Factor')[0]).lower()).replace('\\n\\n', ' '))  )"
     ],
     "language": "python",
     "metadata": {},
     "outputs": [],
     "prompt_number": 10
    },
    {
     "cell_type": "code",
     "collapsed": false,
     "input": [],
     "language": "python",
     "metadata": {},
     "outputs": []
    },
    {
     "cell_type": "code",
     "collapsed": false,
     "input": [
      "import gensim"
     ],
     "language": "python",
     "metadata": {},
     "outputs": [],
     "prompt_number": 13
    },
    {
     "cell_type": "code",
     "collapsed": false,
     "input": [
      "documents = []\n",
      "for i in range(1,6):\n",
      "    documents.append(' '.join(d for d in user[i]))\n",
      "    "
     ],
     "language": "python",
     "metadata": {},
     "outputs": [],
     "prompt_number": 39
    },
    {
     "cell_type": "code",
     "collapsed": false,
     "input": [
      "len(documents[2])"
     ],
     "language": "python",
     "metadata": {},
     "outputs": [
      {
       "metadata": {},
       "output_type": "pyout",
       "prompt_number": 114,
       "text": [
        "339341"
       ]
      }
     ],
     "prompt_number": 114
    },
    {
     "cell_type": "code",
     "collapsed": false,
     "input": [
      "# remove common words and tokenize\n",
      "from nltk.corpus import stopwords\n",
      "#stoplist = set('for a of the and to in'.split())\n",
      "stoplist = stopwords.words('english')\n",
      "texts = [[word for word in document.split() if word not in stoplist]\n",
      "          for document in documents]\n",
      "print len(texts)\n",
      "\n",
      "# remove words that appear only once\n",
      "all_tokens = sum(texts, [])\n",
      "tokens_once = set(word for word in set(all_tokens) if all_tokens.count(word) <= 2)\n",
      "texts = [[word for word in text if word not in tokens_once]\n",
      "          for text in texts]\n",
      "print len(texts)"
     ],
     "language": "python",
     "metadata": {},
     "outputs": [
      {
       "output_type": "stream",
       "stream": "stdout",
       "text": [
        "5\n",
        "5"
       ]
      },
      {
       "output_type": "stream",
       "stream": "stdout",
       "text": [
        "\n"
       ]
      }
     ],
     "prompt_number": 104
    },
    {
     "cell_type": "code",
     "collapsed": false,
     "input": [
      "for t in texts:\n",
      "    print len(t)\n",
      "print len(tokens_once)"
     ],
     "language": "python",
     "metadata": {},
     "outputs": [
      {
       "output_type": "stream",
       "stream": "stdout",
       "text": [
        "1125\n",
        "8722\n",
        "26502\n",
        "47666\n",
        "16250\n",
        "15380\n"
       ]
      }
     ],
     "prompt_number": 115
    },
    {
     "cell_type": "code",
     "collapsed": false,
     "input": [
      "dictionary = gensim.corpora.Dictionary(texts)"
     ],
     "language": "python",
     "metadata": {},
     "outputs": [],
     "prompt_number": 106
    },
    {
     "cell_type": "code",
     "collapsed": false,
     "input": [
      "print(dictionary)"
     ],
     "language": "python",
     "metadata": {},
     "outputs": [
      {
       "output_type": "stream",
       "stream": "stdout",
       "text": [
        "Dictionary(5268 unique tokens: [u'limited', u'prices,', u'todays', u'mid-week', u'update.']...)\n"
       ]
      }
     ],
     "prompt_number": 107
    },
    {
     "cell_type": "code",
     "collapsed": false,
     "input": [
      "corpus = [dictionary.doc2bow(text) for text in texts]"
     ],
     "language": "python",
     "metadata": {},
     "outputs": [],
     "prompt_number": 108
    },
    {
     "cell_type": "code",
     "collapsed": false,
     "input": [
      "from sklearn.feature_extraction.text import TfidfVectorizer\n",
      "vectorizer = TfidfVectorizer(stop_words='english', max_df=0.9, max_features = 7000)\n",
      "X = vectorizer.fit_transform(documents)"
     ],
     "language": "python",
     "metadata": {},
     "outputs": [],
     "prompt_number": 119
    },
    {
     "cell_type": "code",
     "collapsed": false,
     "input": [
      "corpus = gensim.matutils.Sparse2Corpus(X.transpose())"
     ],
     "language": "python",
     "metadata": {},
     "outputs": [],
     "prompt_number": 128
    },
    {
     "cell_type": "code",
     "collapsed": false,
     "input": [
      "id2words = {}\n",
      "for i, word in enumerate(vectorizer.get_feature_names()):\n",
      "    id2words[i] = word"
     ],
     "language": "python",
     "metadata": {},
     "outputs": [],
     "prompt_number": 129
    },
    {
     "cell_type": "code",
     "collapsed": false,
     "input": [
      "#model = gensim.models.ldamodel.LdaModel(corpus, id2word=id2words, num_topics=4, passes=10)"
     ],
     "language": "python",
     "metadata": {},
     "outputs": [],
     "prompt_number": 130
    },
    {
     "cell_type": "code",
     "collapsed": false,
     "input": [
      "model = gensim.models.hdpmodel.HdpModel(corpus, id2word=id2words)"
     ],
     "language": "python",
     "metadata": {},
     "outputs": [],
     "prompt_number": 134
    },
    {
     "cell_type": "code",
     "collapsed": false,
     "input": [
      "for i,topic in enumerate(model.show_topics(formatted=False)):\n",
      "    print 'TOPIC', i\n",
      "    _, topic = topic\n",
      "    for val, word in topic:\n",
      "        print '%20s \\t %f' % (val, word)\n",
      "    print"
     ],
     "language": "python",
     "metadata": {},
     "outputs": [
      {
       "output_type": "stream",
       "stream": "stdout",
       "text": [
        "TOPIC 0\n",
        "                 www \t 0.002242\n",
        "                yelp \t 0.002191\n",
        "                http \t 0.002118\n",
        "                 com \t 0.002098\n",
        "          biz_photos \t 0.002012\n",
        "              select \t 0.001976\n",
        "          scottsdale \t 0.001253\n",
        "              course \t 0.000887\n",
        "             pounder \t 0.000794\n",
        "                 non \t 0.000779\n",
        "          enterprise \t 0.000771\n",
        "                melt \t 0.000732\n",
        "            biltmore \t 0.000721\n",
        "             rolling \t 0.000712\n",
        "                held \t 0.000708\n",
        "              nearly \t 0.000704\n",
        "b_42mfpwdqaxicekn1253a \t 0.000698\n",
        "               sonic \t 0.000686\n",
        "             memphis \t 0.000681\n",
        "               sammy \t 0.000681\n",
        "\n",
        "TOPIC 1\n",
        "           delivered \t 0.000867\n",
        "                 bar \t 0.000856\n",
        "               stiff \t 0.000841\n",
        "                 www \t 0.000832\n",
        "              server \t 0.000813\n",
        "            familiar \t 0.000812\n",
        "           beginning \t 0.000808\n",
        "               prior \t 0.000801\n",
        "                 tap \t 0.000801\n",
        "          biz_photos \t 0.000784\n",
        "                yelp \t 0.000780\n",
        "              butter \t 0.000752\n",
        "              select \t 0.000748\n",
        "93e1eoq2bqg0oyimqdctvg \t 0.000743\n",
        "             decatur \t 0.000729\n",
        "           obviously \t 0.000720\n",
        "            columbia \t 0.000719\n",
        "         comfortable \t 0.000718\n",
        "             firearm \t 0.000715\n",
        "              repair \t 0.000715\n",
        "\n",
        "TOPIC 2\n",
        "                 com \t 0.001503\n",
        "              select \t 0.001345\n",
        "                 www \t 0.001264\n",
        "                http \t 0.001195\n",
        "                yelp \t 0.001176\n",
        "          biz_photos \t 0.001148\n",
        "               curly \t 0.000935\n",
        "              travel \t 0.000895\n",
        "khlwecgm7fmx7ydw4ohz1w \t 0.000872\n",
        "                jeep \t 0.000855\n",
        "            reserved \t 0.000839\n",
        "yr9bkem9pyqywdftwycgmg \t 0.000839\n",
        "               bowls \t 0.000809\n",
        "              injcvq \t 0.000768\n",
        "                 rio \t 0.000754\n",
        "                chow \t 0.000750\n",
        "                room \t 0.000742\n",
        "            reminded \t 0.000737\n",
        "                 org \t 0.000732\n",
        "              houses \t 0.000723\n",
        "\n",
        "TOPIC 3\n",
        "             groupon \t 0.001365\n",
        "                dubs \t 0.001068\n",
        "                 mma \t 0.000912\n",
        "              notice \t 0.000882\n",
        "            sponsors \t 0.000863\n",
        "              toilet \t 0.000831\n",
        "           6qo2kzhaa \t 0.000821\n",
        "xfz96v7lzrzwxe4wzk9tqg \t 0.000813\n",
        "             utility \t 0.000797\n",
        "           different \t 0.000796\n",
        "                 5th \t 0.000795\n",
        "                  69 \t 0.000791\n",
        "               trail \t 0.000779\n",
        "           fatburger \t 0.000775\n",
        "               chalk \t 0.000771\n",
        "                blvd \t 0.000764\n",
        "         proportions \t 0.000758\n",
        "             skillet \t 0.000746\n",
        "                says \t 0.000745\n",
        "            strapped \t 0.000738\n",
        "\n",
        "TOPIC 4\n",
        "873kjqlaeb5fkupmb3jc8q \t 0.001025\n",
        "                  c3 \t 0.001010\n",
        "              studio \t 0.000830\n",
        "              shanes \t 0.000800\n",
        "             pellini \t 0.000789\n",
        "               blade \t 0.000776\n",
        "            smooties \t 0.000772\n",
        "            jewelery \t 0.000762\n",
        "aokrsxts46m2bciqbukirg \t 0.000743\n",
        "              rushed \t 0.000741\n",
        "                 pga \t 0.000731\n",
        "     dprcwkcmvfgwchg \t 0.000718\n",
        "          charleston \t 0.000712\n",
        "             product \t 0.000700\n",
        "         cheesesteak \t 0.000698\n",
        "           escalator \t 0.000677\n",
        "fylmgvbes_v7uraxyxsqja \t 0.000675\n",
        "          connection \t 0.000673\n",
        "ncldfjab3a9htyuwuwsnba \t 0.000668\n",
        "         stomachache \t 0.000651\n",
        "\n",
        "TOPIC 5\n",
        "         comfortably \t 0.001167\n",
        "              vacuum \t 0.001084\n",
        "               slide \t 0.000969\n",
        "                 ahh \t 0.000932\n",
        "                 tdr \t 0.000899\n",
        "                 ran \t 0.000871\n",
        "        conveniently \t 0.000842\n",
        "               story \t 0.000824\n",
        "               smash \t 0.000817\n",
        "            specials \t 0.000816\n",
        "                g28b \t 0.000814\n",
        "            changing \t 0.000778\n",
        "              chilis \t 0.000760\n",
        "                fold \t 0.000757\n",
        "               r7tpw \t 0.000731\n",
        "               stuck \t 0.000726\n",
        "         pomegranate \t 0.000725\n",
        "            assuming \t 0.000715\n",
        "              hannys \t 0.000711\n",
        "               boxes \t 0.000709\n",
        "\n",
        "TOPIC 6\n",
        "               mcrib \t 0.001004\n",
        "             outdoor \t 0.000999\n",
        "             housing \t 0.000870\n",
        "             weapons \t 0.000867\n",
        "            smackers \t 0.000818\n",
        "          biz_photos \t 0.000789\n",
        "               entry \t 0.000775\n",
        "                 ave \t 0.000774\n",
        "              movies \t 0.000766\n",
        "sw7wszlbulwz9dx_d_izjw \t 0.000764\n",
        "               coats \t 0.000757\n",
        "          particular \t 0.000751\n",
        "tn1smifrzvjnfbkenpsowq \t 0.000745\n",
        "                park \t 0.000744\n",
        "         overwhelmed \t 0.000743\n",
        "            heavenly \t 0.000736\n",
        "                phat \t 0.000736\n",
        "35twjx8t0joppa8akusfyq \t 0.000734\n",
        "          portobello \t 0.000728\n",
        "                sham \t 0.000721\n",
        "\n",
        "TOPIC 7\n",
        "              sauces \t 0.001008\n",
        "            pancakes \t 0.000839\n",
        "             sketchy \t 0.000820\n",
        "               brave \t 0.000768\n",
        "               parts \t 0.000757\n",
        "               seats \t 0.000755\n",
        "             applies \t 0.000748\n",
        "          proportion \t 0.000736\n",
        "              custom \t 0.000730\n",
        "          successful \t 0.000730\n",
        "                 ice \t 0.000724\n",
        "           advertise \t 0.000724\n",
        "          hsmjctapjb \t 0.000723\n",
        "               izzle \t 0.000710\n",
        "           spiceness \t 0.000709\n",
        "             markets \t 0.000698\n",
        "                 360 \t 0.000696\n",
        "                 rio \t 0.000691\n",
        "             meeting \t 0.000687\n",
        "             poblano \t 0.000683\n",
        "\n",
        "TOPIC 8\n",
        "               carte \t 0.001048\n",
        "                neon \t 0.000985\n",
        "             tickets \t 0.000948\n",
        "             dinners \t 0.000882\n",
        "       tltrvl7_mcryb \t 0.000874\n",
        "            swimming \t 0.000836\n",
        "       underwhelming \t 0.000821\n",
        "           butternut \t 0.000809\n",
        "                gnaa \t 0.000792\n",
        "          disappoint \t 0.000788\n",
        "              tzq6va \t 0.000764\n",
        "      understandable \t 0.000742\n",
        "5g_nz1dhbewqzbre0cbclg \t 0.000739\n",
        "                port \t 0.000726\n",
        "wjij9j0iybmjfduo5yeynw \t 0.000722\n",
        "              taylor \t 0.000711\n",
        "                  hr \t 0.000709\n",
        "             airport \t 0.000697\n",
        "                 hot \t 0.000694\n",
        "              mortal \t 0.000687\n",
        "\n",
        "TOPIC 9\n",
        "                ones \t 0.000995\n",
        "vrtkmnvl__fbiocquv537g \t 0.000946\n",
        "hv3iuaysof2fjh0nd9rikg \t 0.000919\n",
        "           volunteer \t 0.000882\n",
        "                toms \t 0.000835\n",
        "             charity \t 0.000819\n",
        "wjij9j0iybmjfduo5yeynw \t 0.000798\n",
        "              hurley \t 0.000780\n",
        "                 abv \t 0.000762\n",
        "ncldfjab3a9htyuwuwsnba \t 0.000744\n",
        "             chinese \t 0.000732\n",
        "            blandest \t 0.000702\n",
        "           atrocious \t 0.000701\n",
        "vigomakqdhmk28ews9qg \t 0.000689\n",
        "           signature \t 0.000687\n",
        "               trash \t 0.000670\n",
        "3stzndmrfok1bcqwnvpruq \t 0.000663\n",
        "                geek \t 0.000662\n",
        "            cabernet \t 0.000661\n",
        "            football \t 0.000655\n",
        "\n",
        "TOPIC 10\n",
        "fzxmxauv9cinpj8spisqiq \t 0.000952\n",
        "               mcrib \t 0.000881\n",
        "           butternut \t 0.000864\n",
        "          cfylaa6qww \t 0.000818\n",
        "               fandb \t 0.000792\n",
        "               crown \t 0.000752\n",
        "              ghetto \t 0.000742\n",
        "0hm9bfms7oiuo2zp98tl1w \t 0.000731\n",
        "         experiences \t 0.000704\n",
        "               irons \t 0.000704\n",
        "                23rd \t 0.000691\n",
        "               kills \t 0.000688\n",
        "                card \t 0.000684\n",
        "             bizzaro \t 0.000683\n",
        "       disappointing \t 0.000667\n",
        "           permanent \t 0.000667\n",
        "            cabinets \t 0.000664\n",
        "kyaovkefz0hptrycertbca \t 0.000643\n",
        "             correct \t 0.000641\n",
        "        pepperoncini \t 0.000628\n",
        "\n",
        "TOPIC 11\n",
        "           regularly \t 0.001093\n",
        "          substation \t 0.001018\n",
        "            branzino \t 0.000975\n",
        "           attendees \t 0.000887\n",
        "               batch \t 0.000857\n",
        "                foxx \t 0.000825\n",
        "              slight \t 0.000820\n",
        "             teenage \t 0.000817\n",
        "                hors \t 0.000813\n",
        "              nevada \t 0.000795\n",
        "           firestone \t 0.000767\n",
        "                prom \t 0.000765\n",
        "               piece \t 0.000743\n",
        "           continues \t 0.000709\n",
        "    xsnrt41caiz4nf9q \t 0.000696\n",
        "               steam \t 0.000684\n",
        "                  69 \t 0.000679\n",
        "0jhfnovwvjpm5l1nhc_kdg \t 0.000675\n",
        "               dairy \t 0.000669\n",
        "                 shh \t 0.000665\n",
        "\n",
        "TOPIC 12\n",
        "       complimentary \t 0.000904\n",
        "            squeaked \t 0.000884\n",
        "             buffets \t 0.000877\n",
        "             purpose \t 0.000870\n",
        "5txqxcwefqzbdbmq2zmbpq \t 0.000863\n",
        "             dancing \t 0.000834\n",
        "   4y9ypmy4usgu5_pfw \t 0.000819\n",
        "            antiques \t 0.000799\n",
        "               chill \t 0.000795\n",
        "            shortest \t 0.000766\n",
        "          hsmjctapjb \t 0.000762\n",
        "               buddy \t 0.000732\n",
        "zah8t6bsdy7a16s4qn85 \t 0.000728\n",
        "                dali \t 0.000709\n",
        "               spicy \t 0.000703\n",
        "         traditional \t 0.000682\n",
        "              outlaw \t 0.000681\n",
        "vl3v1ec3xmvhm83lt865oq \t 0.000680\n",
        "                hole \t 0.000679\n",
        "          directions \t 0.000677\n",
        "\n",
        "TOPIC 13\n",
        "                7p8g \t 0.001033\n",
        "             hiccups \t 0.000963\n",
        "             matters \t 0.000919\n",
        "            oanysljo \t 0.000908\n",
        "             bladder \t 0.000890\n",
        "            macaroni \t 0.000863\n",
        "           execution \t 0.000810\n",
        "               wrote \t 0.000807\n",
        "           sunscreen \t 0.000769\n",
        "          3aj7gakbqg \t 0.000761\n",
        "           explosion \t 0.000752\n",
        "               skill \t 0.000701\n",
        "              spotty \t 0.000683\n",
        "            boneless \t 0.000682\n",
        "      ungoysifrzvyby \t 0.000681\n",
        "              stroll \t 0.000675\n",
        "               salty \t 0.000672\n",
        "                 ice \t 0.000664\n",
        "              canvas \t 0.000663\n",
        "               aware \t 0.000661\n",
        "\n",
        "TOPIC 14\n",
        "           boyfriend \t 0.001040\n",
        "                 20s \t 0.000953\n",
        "             rookies \t 0.000841\n",
        "93i2y7h5xikt2mhupjn25g \t 0.000817\n",
        "           charities \t 0.000777\n",
        "rmvjtxu1tfbh1y780zgf6g \t 0.000755\n",
        "               nacho \t 0.000728\n",
        "                 dbw \t 0.000723\n",
        "                 sum \t 0.000703\n",
        "              outing \t 0.000700\n",
        "           reviewers \t 0.000697\n",
        "         whataburger \t 0.000694\n",
        "            wondered \t 0.000684\n",
        "             snapped \t 0.000682\n",
        "           outsiders \t 0.000680\n",
        "            students \t 0.000676\n",
        "                apps \t 0.000673\n",
        "d9voveym0xkeztaxlsxx \t 0.000670\n",
        "             distant \t 0.000666\n",
        "     7hp5zm2tagp2g7i \t 0.000660\n",
        "\n",
        "TOPIC 15\n",
        "           afterwork \t 0.001005\n",
        "            flavored \t 0.000919\n",
        "            kierland \t 0.000778\n",
        "rodxboepqowc0xmo1lzd4q \t 0.000744\n",
        "                unit \t 0.000741\n",
        "                  60 \t 0.000709\n",
        "        shuffleboard \t 0.000707\n",
        "           situation \t 0.000705\n",
        "cmqefdqzul5mn2mufhu3ia \t 0.000704\n",
        "              search \t 0.000704\n",
        "  4xy9ubutelimx6juva \t 0.000703\n",
        "kowefn_szfjzczk6za1qwq \t 0.000696\n",
        "otcbxjdkvidpds4lxy8kiq \t 0.000693\n",
        "              patron \t 0.000685\n",
        "            frequent \t 0.000682\n",
        "             vampiro \t 0.000681\n",
        "           traveling \t 0.000680\n",
        "                 dvd \t 0.000677\n",
        "              lucked \t 0.000672\n",
        "qbdav7avpjvyoewhe_da4g \t 0.000668\n",
        "\n",
        "TOPIC 16\n",
        "             pairing \t 0.001112\n",
        "           appetites \t 0.001016\n",
        "             tweetup \t 0.000945\n",
        "a5mdjp1m99jbsaolvo0iqg \t 0.000921\n",
        "              handed \t 0.000915\n",
        "                1000 \t 0.000860\n",
        "   qnopzxyzr9u8fokia \t 0.000857\n",
        "              entree \t 0.000826\n",
        "             changes \t 0.000797\n",
        "          hre343blqg \t 0.000784\n",
        "             diamond \t 0.000749\n",
        "                 par \t 0.000748\n",
        "              helped \t 0.000740\n",
        "            resisted \t 0.000722\n",
        "              cannon \t 0.000719\n",
        "              sauces \t 0.000719\n",
        "mw6o7zqibpr3di0qdg4tta \t 0.000689\n",
        "                 sin \t 0.000689\n",
        "ierf1dclqbhnkusyqvbfeq \t 0.000672\n",
        "               shoot \t 0.000670\n",
        "\n",
        "TOPIC 17\n",
        "                jose \t 0.001321\n",
        "wmgiguhld8sn5z20awisma \t 0.001207\n",
        "              repeat \t 0.001094\n",
        "                  35 \t 0.000951\n",
        "               blond \t 0.000858\n",
        "           excalibur \t 0.000778\n",
        "             misters \t 0.000776\n",
        "             lessons \t 0.000767\n",
        "            premises \t 0.000761\n",
        "   ljthusatjt38jnofa \t 0.000754\n",
        "         conventions \t 0.000752\n",
        "                camp \t 0.000729\n",
        "           standards \t 0.000709\n",
        "or8bzj8bwnbm9iyobpuura \t 0.000703\n",
        "               pinks \t 0.000703\n",
        "            smoothie \t 0.000703\n",
        "                  05 \t 0.000695\n",
        "                skyy \t 0.000684\n",
        "             billing \t 0.000670\n",
        "           impressed \t 0.000664\n",
        "\n",
        "TOPIC 18\n",
        "                 dvd \t 0.001094\n",
        "             montana \t 0.001087\n",
        "           overlooks \t 0.000939\n",
        "               combo \t 0.000903\n",
        "            everyday \t 0.000898\n",
        "            warranty \t 0.000829\n",
        "                held \t 0.000815\n",
        "                  41 \t 0.000804\n",
        "vayvem7jlojrrbbxzbvwmg \t 0.000756\n",
        "             vitamin \t 0.000743\n",
        "    arvyfuah2n5we4ny \t 0.000741\n",
        "              indoor \t 0.000740\n",
        "      nc0dtkgppacixw \t 0.000738\n",
        "         boysenberry \t 0.000730\n",
        "               fence \t 0.000714\n",
        "               threw \t 0.000704\n",
        "              pseudo \t 0.000697\n",
        "             explain \t 0.000691\n",
        "                 bed \t 0.000669\n",
        "                hole \t 0.000663\n",
        "\n",
        "TOPIC 19\n",
        "          yw7pytbk7w \t 0.001305\n",
        "           attracted \t 0.000913\n",
        "           southwest \t 0.000806\n",
        "zkcb534pv_uxipyiok_ufa \t 0.000803\n",
        "           immediate \t 0.000793\n",
        "              shaved \t 0.000785\n",
        "burdzfdtqhacekxlrd2oxw \t 0.000778\n",
        "               carts \t 0.000775\n",
        "             shoving \t 0.000764\n",
        "             brisket \t 0.000764\n",
        "              boiled \t 0.000761\n",
        "               camry \t 0.000745\n",
        "                lady \t 0.000738\n",
        "             alright \t 0.000734\n",
        "   jt82qozdkg3bdzkid \t 0.000714\n",
        "                yzn4 \t 0.000714\n",
        "              chorro \t 0.000707\n",
        "                  89 \t 0.000704\n",
        "rmvjtxu1tfbh1y780zgf6g \t 0.000686\n",
        "iujyefio8lxyfxtxls7azq \t 0.000682\n",
        "\n"
       ]
      }
     ],
     "prompt_number": 142
    },
    {
     "cell_type": "code",
     "collapsed": false,
     "input": [
      "for doc in corpus:\n",
      "    print model[doc]\n",
      "    print"
     ],
     "language": "python",
     "metadata": {},
     "outputs": [
      {
       "output_type": "stream",
       "stream": "stdout",
       "text": [
        "[(0, 0.042203869942949605), (1, 0.019579336654859381), (2, 0.011320804107710816), (3, 0.92183384429867121)]\n",
        "\n",
        "[(0, 0.26265219635662473), (1, 0.72705588403313948)]"
       ]
      },
      {
       "output_type": "stream",
       "stream": "stdout",
       "text": [
        "\n",
        "\n",
        "[(0, 0.68697145380616276), (1, 0.012067992562543732), (2, 0.29435178611872165)]"
       ]
      },
      {
       "output_type": "stream",
       "stream": "stdout",
       "text": [
        "\n",
        "\n",
        "[(0, 0.97287278571594793), (1, 0.012950258188244638)]"
       ]
      },
      {
       "output_type": "stream",
       "stream": "stdout",
       "text": [
        "\n",
        "\n",
        "[(0, 0.9780928019770041), (1, 0.010411290130163673)]\n",
        "\n"
       ]
      }
     ],
     "prompt_number": 143
    },
    {
     "cell_type": "code",
     "collapsed": false,
     "input": [
      "d = {'a':1, 'b': 2, 'c':3}"
     ],
     "language": "python",
     "metadata": {},
     "outputs": [],
     "prompt_number": 144
    },
    {
     "cell_type": "code",
     "collapsed": false,
     "input": [
      "[d[key] for key in d.keys()]"
     ],
     "language": "python",
     "metadata": {},
     "outputs": [
      {
       "metadata": {},
       "output_type": "pyout",
       "prompt_number": 148,
       "text": [
        "[1, 3, 2]"
       ]
      }
     ],
     "prompt_number": 148
    },
    {
     "cell_type": "code",
     "collapsed": false,
     "input": [
      "from collections import defaultdict"
     ],
     "language": "python",
     "metadata": {},
     "outputs": [],
     "prompt_number": 149
    },
    {
     "cell_type": "code",
     "collapsed": false,
     "input": [
      "d = defaultdict(list)"
     ],
     "language": "python",
     "metadata": {},
     "outputs": [],
     "prompt_number": 150
    },
    {
     "cell_type": "code",
     "collapsed": false,
     "input": [
      "d['a'].append(1)"
     ],
     "language": "python",
     "metadata": {},
     "outputs": [],
     "prompt_number": 151
    },
    {
     "cell_type": "code",
     "collapsed": false,
     "input": [
      "d['a'].append(1)\n"
     ],
     "language": "python",
     "metadata": {},
     "outputs": [],
     "prompt_number": 153
    },
    {
     "cell_type": "code",
     "collapsed": false,
     "input": [
      "d"
     ],
     "language": "python",
     "metadata": {},
     "outputs": [
      {
       "metadata": {},
       "output_type": "pyout",
       "prompt_number": 154,
       "text": [
        "defaultdict(<type 'list'>, {'a': [1, 1]})"
       ]
      }
     ],
     "prompt_number": 154
    },
    {
     "cell_type": "code",
     "collapsed": false,
     "input": [
      "len(d.keys())"
     ],
     "language": "python",
     "metadata": {},
     "outputs": [
      {
       "metadata": {},
       "output_type": "pyout",
       "prompt_number": 157,
       "text": [
        "1"
       ]
      }
     ],
     "prompt_number": 157
    },
    {
     "cell_type": "code",
     "collapsed": false,
     "input": [],
     "language": "python",
     "metadata": {},
     "outputs": []
    }
   ],
   "metadata": {}
  }
 ]
}