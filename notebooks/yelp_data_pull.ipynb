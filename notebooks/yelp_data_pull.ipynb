{
 "metadata": {
  "name": "",
  "signature": "sha256:8a3523c9843c51d2c892f38e60926b8ad887b7c35aeea09a08534e3098b34ed8"
 },
 "nbformat": 3,
 "nbformat_minor": 0,
 "worksheets": [
  {
   "cells": [
    {
     "cell_type": "markdown",
     "metadata": {},
     "source": [
      "user_1 --> kGgAARL2UmvCcTRfiscjug\n",
      "user_2 --> Iu3Jo9ROp2IWC9FwtWOaUQ\n",
      "user_3 --> uglRXVWWD6x1EZKfjJawTOg\n",
      "user_4 --> lHHwLi_YZuDSfdlSShFkug"
     ]
    },
    {
     "cell_type": "code",
     "collapsed": false,
     "input": [
      "from pymongo import MongoClient"
     ],
     "language": "python",
     "metadata": {},
     "outputs": [],
     "prompt_number": 73
    },
    {
     "cell_type": "code",
     "collapsed": false,
     "input": [
      "who"
     ],
     "language": "python",
     "metadata": {},
     "outputs": [
      {
       "output_type": "stream",
       "stream": "stdout",
       "text": [
        "MongoClient\t biz\t business_count\t businesses\t c\t count\t defaultdict\t l_one\t one_star_reviewers\t \n",
        "pickle\t picklefile\t r\t review_count\t reviewer\t reviewer_ids\t reviewers\t sorted_biz_counts\t sorted_counts\t \n",
        "sys\t user\t user_1\t user_5\t user_6\t user_7\t user_8\t vegas_resto\t vegas_resto_reviewers\t \n",
        "yelp\t \n"
       ]
      }
     ],
     "prompt_number": 74
    },
    {
     "cell_type": "markdown",
     "metadata": {},
     "source": [
      "mongodb://[username:password@]host1[:port1][,host2[:port2],...[,hostN[:portN]]][/[database][?options]]"
     ]
    },
    {
     "cell_type": "code",
     "collapsed": false,
     "input": [
      "c = MongoClient('104.131.100.123')"
     ],
     "language": "python",
     "metadata": {},
     "outputs": [],
     "prompt_number": 3
    },
    {
     "cell_type": "code",
     "collapsed": false,
     "input": [
      "c.yelp.authenticate('kate', '1Austincat')"
     ],
     "language": "python",
     "metadata": {},
     "outputs": [
      {
       "metadata": {},
       "output_type": "pyout",
       "prompt_number": 4,
       "text": [
        "True"
       ]
      }
     ],
     "prompt_number": 4
    },
    {
     "cell_type": "code",
     "collapsed": false,
     "input": [
      "c.yelp.reviews.find().next()"
     ],
     "language": "python",
     "metadata": {},
     "outputs": [
      {
       "metadata": {},
       "output_type": "pyout",
       "prompt_number": 5,
       "text": [
        "{u'_id': ObjectId('54457edb6ed5c8139ed52e92'),\n",
        " u'business_id': u'vcNAWiLM4dR7D2nwwJ7nCA',\n",
        " u'date': u'2007-05-17',\n",
        " u'review_id': u'15SdjuK7DmYqUAj6rjGowg',\n",
        " u'stars': 5,\n",
        " u'text': u\"dr. goldberg offers everything i look for in a general practitioner.  he's nice and easy to talk to without being patronizing; he's always on time in seeing his patients; he's affiliated with a top-notch hospital (nyu) which my parents have explained to me is very important in case something happens and you need surgery; and you can get referrals to see specialists without having to see him first.  really, what more do you need?  i'm sitting here trying to think of any complaints i have about him, but i'm really drawing a blank.\",\n",
        " u'type': u'review',\n",
        " u'user_id': u'Xqd0DzHaiyRqVH3WRG7hzg',\n",
        " u'votes': {u'cool': 1, u'funny': 0, u'useful': 2}}"
       ]
      }
     ],
     "prompt_number": 5
    },
    {
     "cell_type": "code",
     "collapsed": false,
     "input": [
      "yelp = c.yelp"
     ],
     "language": "python",
     "metadata": {},
     "outputs": [],
     "prompt_number": 6
    },
    {
     "cell_type": "code",
     "collapsed": false,
     "input": [
      "yelp.users.find().next()"
     ],
     "language": "python",
     "metadata": {},
     "outputs": [
      {
       "metadata": {},
       "output_type": "pyout",
       "prompt_number": 7,
       "text": [
        "{u'_id': ObjectId('544580f66ed5c8139ee65ae4'),\n",
        " u'average_stars': 3.83,\n",
        " u'compliments': {},\n",
        " u'elite': [],\n",
        " u'fans': 0,\n",
        " u'friends': [],\n",
        " u'name': u'Lee',\n",
        " u'review_count': 6,\n",
        " u'type': u'user',\n",
        " u'user_id': u'qtrmBGNqCvupHMHL_bKFgQ',\n",
        " u'votes': {u'cool': 0, u'funny': 1, u'useful': 5},\n",
        " u'yelping_since': u'2012-02'}"
       ]
      }
     ],
     "prompt_number": 7
    },
    {
     "cell_type": "code",
     "collapsed": false,
     "input": [
      "yelp.users.count()"
     ],
     "language": "python",
     "metadata": {},
     "outputs": [
      {
       "metadata": {},
       "output_type": "pyout",
       "prompt_number": 8,
       "text": [
        "252898"
       ]
      }
     ],
     "prompt_number": 8
    },
    {
     "cell_type": "code",
     "collapsed": false,
     "input": [
      "yelp.reviews.count()"
     ],
     "language": "python",
     "metadata": {},
     "outputs": [
      {
       "metadata": {},
       "output_type": "pyout",
       "prompt_number": 10,
       "text": [
        "1125458"
       ]
      }
     ],
     "prompt_number": 10
    },
    {
     "cell_type": "code",
     "collapsed": false,
     "input": [
      "#metal.find('year':2000).count()\n",
      "yelp.reviews.find({'user_id': u'Xqd0DzHaiyRqVH3WRG7hzg'}).count()"
     ],
     "language": "python",
     "metadata": {},
     "outputs": [
      {
       "metadata": {},
       "output_type": "pyout",
       "prompt_number": 11,
       "text": [
        "1"
       ]
      }
     ],
     "prompt_number": 11
    },
    {
     "cell_type": "code",
     "collapsed": false,
     "input": [
      "#find user id with most yelp reviews.\n",
      "#make a dict the reviewer id, and number of reviews."
     ],
     "language": "python",
     "metadata": {},
     "outputs": [],
     "prompt_number": 28
    },
    {
     "cell_type": "code",
     "collapsed": false,
     "input": [
      "yelp.business.find().next()"
     ],
     "language": "python",
     "metadata": {},
     "outputs": [
      {
       "metadata": {},
       "output_type": "pyout",
       "prompt_number": 12,
       "text": [
        "{u'_id': ObjectId('5445812b6ed5c8139eea36c6'),\n",
        " u'attributes': {u'By Appointment Only': True},\n",
        " u'business_id': u'vcNAWiLM4dR7D2nwwJ7nCA',\n",
        " u'categories': [u'Doctors', u'Health & Medical'],\n",
        " u'city': u'Phoenix',\n",
        " u'full_address': u'4840 E Indian School Rd\\nSte 101\\nPhoenix, AZ 85018',\n",
        " u'hours': {u'Friday': {u'close': u'17:00', u'open': u'08:00'},\n",
        "  u'Monday': {u'close': u'17:00', u'open': u'08:00'},\n",
        "  u'Thursday': {u'close': u'17:00', u'open': u'08:00'},\n",
        "  u'Tuesday': {u'close': u'17:00', u'open': u'08:00'},\n",
        "  u'Wednesday': {u'close': u'17:00', u'open': u'08:00'}},\n",
        " u'latitude': 33.499313,\n",
        " u'longitude': -111.983758,\n",
        " u'name': u'Eric Goldberg, MD',\n",
        " u'neighborhoods': [],\n",
        " u'open': True,\n",
        " u'review_count': 7,\n",
        " u'stars': 3.5,\n",
        " u'state': u'AZ',\n",
        " u'type': u'business'}"
       ]
      }
     ],
     "prompt_number": 12
    },
    {
     "cell_type": "code",
     "collapsed": false,
     "input": [],
     "language": "python",
     "metadata": {},
     "outputs": [],
     "prompt_number": 41
    },
    {
     "cell_type": "code",
     "collapsed": false,
     "input": [
      "from collections import defaultdict"
     ],
     "language": "python",
     "metadata": {},
     "outputs": [],
     "prompt_number": 13
    },
    {
     "cell_type": "code",
     "collapsed": false,
     "input": [
      "reviewers = [r['user_id'] for r in list(yelp.reviews.find())]"
     ],
     "language": "python",
     "metadata": {},
     "outputs": [],
     "prompt_number": 14
    },
    {
     "cell_type": "code",
     "collapsed": false,
     "input": [
      "import sys"
     ],
     "language": "python",
     "metadata": {},
     "outputs": [],
     "prompt_number": 15
    },
    {
     "cell_type": "code",
     "collapsed": false,
     "input": [
      "sys.getsizeof(reviewers)"
     ],
     "language": "python",
     "metadata": {},
     "outputs": [
      {
       "metadata": {},
       "output_type": "pyout",
       "prompt_number": 16,
       "text": [
        "9784704"
       ]
      }
     ],
     "prompt_number": 16
    },
    {
     "cell_type": "code",
     "collapsed": false,
     "input": [
      "review_count = defaultdict(int)\n",
      "for r in reviewers:\n",
      "    review_count[r] += 1"
     ],
     "language": "python",
     "metadata": {},
     "outputs": [],
     "prompt_number": 17
    },
    {
     "cell_type": "code",
     "collapsed": false,
     "input": [
      "sorted_counts = sorted(review_count.items(), key=lambda x: x[1], reverse=True)\n",
      "for user, count in sorted_counts[:10]:\n",
      "    print user\n",
      "    print count"
     ],
     "language": "python",
     "metadata": {},
     "outputs": [
      {
       "output_type": "stream",
       "stream": "stdout",
       "text": [
        "kGgAARL2UmvCcTRfiscjug\n",
        "1399\n",
        "ikm0UCahtK34LbLCEw4YTw\n",
        "1137\n",
        "Iu3Jo9ROp2IWC9FwtWOaUQ\n",
        "1046\n",
        "glRXVWWD6x1EZKfjJawTOg\n",
        "1013\n",
        "PV5voYSD43Cn_3gHmxG7DA\n",
        "895\n",
        "fczQCSmaWF78toLEmb0Zsw\n",
        "872\n",
        "lHHwLi_YZuDSfdlSShFkug\n",
        "816\n",
        "ia1nTRAQEaFWv0cwADeK7g\n",
        "811\n",
        "3gIfcQq5KxAegwCPXc83cQ\n",
        "790\n",
        "DrWLhrK8WMZf7Jb-Oqc7ww\n",
        "765\n"
       ]
      }
     ],
     "prompt_number": 18
    },
    {
     "cell_type": "code",
     "collapsed": false,
     "input": [
      "user_1 = [r for r in list(yelp.reviews.find({'user_id': u'kGgAARL2UmvCcTRfiscjug'}))]"
     ],
     "language": "python",
     "metadata": {},
     "outputs": [],
     "prompt_number": 19
    },
    {
     "cell_type": "code",
     "collapsed": false,
     "input": [
      "businesses = [r['business_id'] for r in list(yelp.reviews.find())]"
     ],
     "language": "python",
     "metadata": {},
     "outputs": [],
     "prompt_number": 20
    },
    {
     "cell_type": "code",
     "collapsed": false,
     "input": [
      "business_count = defaultdict(int)\n",
      "for r in businesses:\n",
      "    business_count[r] += 1"
     ],
     "language": "python",
     "metadata": {},
     "outputs": [],
     "prompt_number": 22
    },
    {
     "cell_type": "code",
     "collapsed": false,
     "input": [
      "sorted_biz_counts = sorted(business_count.items(), key=lambda x: x[1], reverse=True)\n",
      "for biz, count in sorted_biz_counts[:10]:\n",
      "    print biz\n",
      "    print count"
     ],
     "language": "python",
     "metadata": {},
     "outputs": [
      {
       "output_type": "stream",
       "stream": "stdout",
       "text": [
        "4bEjOyTaDG24SY5TxsaUNQ\n",
        "3695\n",
        "2e2e7WgqU1BnpxmQL5jbfw\n",
        "3263\n",
        "zt1TpTuJ6y9n551sw9TaEg\n",
        "3011\n",
        "YNQgak-ZLtYJQxlDwN-qIg\n",
        "2494\n",
        "Xhg93cMdemu5pAMkDoEdtQ\n",
        "2399\n",
        "tFU2Js_nbIZOrnKfYJYBBg\n",
        "2203\n",
        "CZjcFdvJhksq9dy58NVEzw\n",
        "2122\n",
        "sIyHTizqAiGu12XMLX3N3g\n",
        "2090\n",
        "AtjsjFzalWqJ7S9DUFQ4bw\n",
        "2036\n",
        "xfwRO04KbAPw_zRotCfWQQ\n",
        "2027\n"
       ]
      }
     ],
     "prompt_number": 23
    },
    {
     "cell_type": "code",
     "collapsed": false,
     "input": [
      "yelp.business.find({'business_id': u'4bEjOyTaDG24SY5TxsaUNQ'}).next()"
     ],
     "language": "python",
     "metadata": {},
     "outputs": [
      {
       "metadata": {},
       "output_type": "pyout",
       "prompt_number": 24,
       "text": [
        "{u'_id': ObjectId('5445812c6ed5c8139eea6595'),\n",
        " u'attributes': {u'Accepts Credit Cards': True,\n",
        "  u'Alcohol': u'full_bar',\n",
        "  u'Ambience': {u'casual': False,\n",
        "   u'classy': True,\n",
        "   u'divey': False,\n",
        "   u'hipster': False,\n",
        "   u'intimate': False,\n",
        "   u'romantic': True,\n",
        "   u'touristy': False,\n",
        "   u'trendy': False,\n",
        "   u'upscale': False},\n",
        "  u'Attire': u'casual',\n",
        "  u'BYOB': False,\n",
        "  u'BYOB/Corkage': u'no',\n",
        "  u'Caters': False,\n",
        "  u'Corkage': True,\n",
        "  u'Delivery': False,\n",
        "  u'Good For': {u'breakfast': False,\n",
        "   u'brunch': False,\n",
        "   u'dessert': False,\n",
        "   u'dinner': True,\n",
        "   u'latenight': False,\n",
        "   u'lunch': False},\n",
        "  u'Good For Groups': True,\n",
        "  u'Good For Kids': False,\n",
        "  u'Good for Kids': False,\n",
        "  u'Has TV': False,\n",
        "  u'Noise Level': u'average',\n",
        "  u'Open 24 Hours': False,\n",
        "  u'Outdoor Seating': True,\n",
        "  u'Parking': {u'garage': True,\n",
        "   u'lot': False,\n",
        "   u'street': False,\n",
        "   u'valet': False,\n",
        "   u'validated': False},\n",
        "  u'Price Range': 2,\n",
        "  u'Take-out': False,\n",
        "  u'Takes Reservations': True,\n",
        "  u'Waiter Service': True,\n",
        "  u'Wheelchair Accessible': True,\n",
        "  u'Wi-Fi': u'no'},\n",
        " u'business_id': u'4bEjOyTaDG24SY5TxsaUNQ',\n",
        " u'categories': [u'Breakfast & Brunch',\n",
        "  u'Steakhouses',\n",
        "  u'French',\n",
        "  u'Restaurants'],\n",
        " u'city': u'Las Vegas',\n",
        " u'full_address': u'3655 Las Vegas Blvd S\\nThe Strip\\nLas Vegas, NV 89109',\n",
        " u'hours': {u'Friday': {u'close': u'00:00', u'open': u'07:00'},\n",
        "  u'Monday': {u'close': u'23:00', u'open': u'07:00'},\n",
        "  u'Saturday': {u'close': u'00:00', u'open': u'07:00'},\n",
        "  u'Sunday': {u'close': u'23:00', u'open': u'07:00'},\n",
        "  u'Thursday': {u'close': u'23:00', u'open': u'07:00'},\n",
        "  u'Tuesday': {u'close': u'23:00', u'open': u'07:00'},\n",
        "  u'Wednesday': {u'close': u'23:00', u'open': u'07:00'}},\n",
        " u'latitude': 36.1129524773428,\n",
        " u'longitude': -115.172588519464,\n",
        " u'name': u'Mon Ami Gabi',\n",
        " u'neighborhoods': [u'The Strip'],\n",
        " u'open': True,\n",
        " u'review_count': 4084,\n",
        " u'stars': 4.0,\n",
        " u'state': u'NV',\n",
        " u'type': u'business'}"
       ]
      }
     ],
     "prompt_number": 24
    },
    {
     "cell_type": "code",
     "collapsed": false,
     "input": [
      "#get all reviewer id's for business with id 4bEjOyTaDG24SY5TxsaUNQ"
     ],
     "language": "python",
     "metadata": {},
     "outputs": [],
     "prompt_number": 62
    },
    {
     "cell_type": "code",
     "collapsed": false,
     "input": [
      "reviewer_ids = [r['user_id'] for r in list(yelp.reviews.find({'business_id': u'4bEjOyTaDG24SY5TxsaUNQ'}))]"
     ],
     "language": "python",
     "metadata": {},
     "outputs": [],
     "prompt_number": 25
    },
    {
     "cell_type": "code",
     "collapsed": false,
     "input": [
      "reviewer_ids[0]"
     ],
     "language": "python",
     "metadata": {},
     "outputs": [
      {
       "metadata": {},
       "output_type": "pyout",
       "prompt_number": 26,
       "text": [
        "u'LAOHN2Z6INbwuGa3fx9UTw'"
       ]
      }
     ],
     "prompt_number": 26
    },
    {
     "cell_type": "code",
     "collapsed": false,
     "input": [
      "#print numbers of reviews for each reviewer"
     ],
     "language": "python",
     "metadata": {},
     "outputs": [],
     "prompt_number": 67
    },
    {
     "cell_type": "code",
     "collapsed": false,
     "input": [
      "vegas_resto_reviewers = []\n",
      "for reviewer in reviewer_ids:\n",
      "    vegas_resto_reviewers.append((reviewer, review_count[reviewer]))"
     ],
     "language": "python",
     "metadata": {},
     "outputs": [],
     "prompt_number": 27
    },
    {
     "cell_type": "code",
     "collapsed": false,
     "input": [
      "vegas_resto_reviewers.sort(key=lambda tup: tup[1], reverse=True)"
     ],
     "language": "python",
     "metadata": {},
     "outputs": [],
     "prompt_number": 28
    },
    {
     "cell_type": "code",
     "collapsed": false,
     "input": [
      "vegas_resto_reviewers[:10]"
     ],
     "language": "python",
     "metadata": {},
     "outputs": [
      {
       "metadata": {},
       "output_type": "pyout",
       "prompt_number": 29,
       "text": [
        "[(u'kGgAARL2UmvCcTRfiscjug', 1399),\n",
        " (u'Iu3Jo9ROp2IWC9FwtWOaUQ', 1046),\n",
        " (u'glRXVWWD6x1EZKfjJawTOg', 1013),\n",
        " (u'lHHwLi_YZuDSfdlSShFkug', 816),\n",
        " (u'ia1nTRAQEaFWv0cwADeK7g', 811),\n",
        " (u'3gIfcQq5KxAegwCPXc83cQ', 790),\n",
        " (u'3gIfcQq5KxAegwCPXc83cQ', 790),\n",
        " (u'uZbTb-u-GVjTa2gtQfry5g', 751),\n",
        " (u'5lq4LkrviYgQ4LJNsBYHcA', 582),\n",
        " (u'EjhVxYFeMUYimoImjMduzQ', 545)]"
       ]
      }
     ],
     "prompt_number": 29
    },
    {
     "cell_type": "code",
     "collapsed": false,
     "input": [],
     "language": "python",
     "metadata": {},
     "outputs": [],
     "prompt_number": 29
    },
    {
     "cell_type": "code",
     "collapsed": false,
     "input": [
      "vegas_resto = [r for r in list(yelp.reviews.find({'business_id': u'4bEjOyTaDG24SY5TxsaUNQ'}))]"
     ],
     "language": "python",
     "metadata": {},
     "outputs": [],
     "prompt_number": 30
    },
    {
     "cell_type": "code",
     "collapsed": false,
     "input": [
      "vegas_resto[5]"
     ],
     "language": "python",
     "metadata": {},
     "outputs": [
      {
       "metadata": {},
       "output_type": "pyout",
       "prompt_number": 31,
       "text": [
        "{u'_id': ObjectId('54457efa6ed5c8139ed99d84'),\n",
        " u'business_id': u'4bEjOyTaDG24SY5TxsaUNQ',\n",
        " u'date': u'2006-01-31',\n",
        " u'review_id': u'M6U9acJkmCXZkEvIIDFtfQ',\n",
        " u'stars': 5,\n",
        " u'text': u\"Yippy!  Make-your-own bloody mary bar! Chose the vodka and go to town.  They have recipies to help you out if you need it.  We tried Mon Ami Gabi for Sunday brunch.  First off, I loved eating in the atrium (light, airy and classic), and probably prefered it to eating outside (who wants to feel like they're right on the strip amidst icky large groups and las vegas grime while spending a bit for brunch?).  Secondly, the service was OUTSTANDING.  The waitress even put in a special request for a specific  crepe filling not on the menu (the kitchen made it- smoked salmon, egg and jack cheese if you're curious).  Crepes were enormous and delicious (just too bad I couldn't lug a doggie bag around with me all day).  Not too expensive ($50 with tax and tip and champagne) .Yumyumyum. Will definatley go again.\",\n",
        " u'type': u'review',\n",
        " u'user_id': u'DeBP40aPIRv3h1ED17X4Qg',\n",
        " u'votes': {u'cool': 0, u'funny': 1, u'useful': 0}}"
       ]
      }
     ],
     "prompt_number": 31
    },
    {
     "cell_type": "code",
     "collapsed": false,
     "input": [
      "user_2 = [r for r in list(yelp.reviews.find({'user_id': u'Iu3Jo9ROp2IWC9FwtWOaUQ'}))]"
     ],
     "language": "python",
     "metadata": {},
     "outputs": [],
     "prompt_number": 92
    },
    {
     "cell_type": "code",
     "collapsed": false,
     "input": [
      "[r for r in list(yelp.reviews.find({'$and': [{'user_id': u'5lq4LkrviYgQ4LJNsBYHcA'}, {'business_id': u'4bEjOyTaDG24SY5TxsaUNQ'}]}))]"
     ],
     "language": "python",
     "metadata": {},
     "outputs": [
      {
       "metadata": {},
       "output_type": "pyout",
       "prompt_number": 90,
       "text": [
        "[{u'_id': ObjectId('54457efa6ed5c8139ed99eb0'),\n",
        "  u'business_id': u'4bEjOyTaDG24SY5TxsaUNQ',\n",
        "  u'date': u'2009-10-11',\n",
        "  u'review_id': u'aHfY5gXRFV7qmd2URUlJQw',\n",
        "  u'stars': 3,\n",
        "  u'text': u'The day after a superb dinner at Guy Savoy (getting in later than my friends who were in Vegas to \"party\" and still waking up before them) I woke up early - feeling great I went for a run outside, the first time I\\'d ever done so in Vegas - what they say about it being \"a dry heat\" is right and the mornings are dry and cool - running from the Venetian down to Mandalay Bay and back I was more dehydrated than I normally am on a run twice the distance.  Drinking plenty of water and showering I\\'d worked up quite an appetite and made my way out for another walk south on the strip - this time to Mon Ami Gabi at Paris.  Arriving at 7:20am I was greeted by the friendly hostesses at the door and led promptly to a prime seat on the patio where I watched Vegas roll by - the best part about early morning Vegas is that there are only two sorts of people - the early morning joggers and the people just heading home.  I laughed like hell when a guy came up and yelled \"high five - yellow shirt - I love yellow shirts\" with regard to my vintage LA Kings T.  Only in Vegas.\\n\\nHaving heard much about Mon Ami Gabi\\'s view - truly awesome sitting 4 feet above Las Vegas Boulevard and directly across from the fountains at Bellagio - I must admit I\\'d heard mixed reviews of the food and went in with tempered expectations.  Greeted by my server and handed a menu I was offered coffee which I graciously accepted.  A decent French Roast with heavy nuttiness the coffee was good, but probably the worst I had during my trip to Vegas...and refills were slow at best despite the restaurant being unfilled throughout my meal.  Browsing the menu I was impressed by both the sweets and the savories - deciding between the Blueberry French Toast and Poached Pear Waffles proved difficult and thus I ended up with neither.   Placing my order I also opted to order a pain au chocolate from the limited bakery menu.\\n\\nSitting for nearly 30 minutes while I waited for my food I sipped my coffee and watched the street - I\\'ve said it before and I\\'ll say it again, half the \"Vegas Experience\" is people watching.  Eventually arriving along with only my first refill of coffee (I had to request it - thankfully after this service improved and a young man took over my coffee refills) I was somewhat surprised when the sweet arrived with my savory breakfast.  Cool and questionably fresh the Pain au Chocolate was appropriately buttery and flakey but lacked any pizzazz.  Featuring a small single vein of average chocolate I could\\'ve gotten the same dish for much less than $3.50 at most convenience stores.\\n\\nWhere I would consider the sweet a failure - I didn\\'t even finish it - my savory at MAG was actually a unique take on a classic and quite delicious.  Described as a \"classic\" Croque Madame the dish was actually presented in a \"deconstructed\" fork and knife sandwich manner with two large slices of hearty grain bread pan fried in butter and then cut in half, topped with ham and gruyere cheese plus chives, and finished with a sunny-side up egg.  Accompanying the croque on the plate was a simple salad of frisee and vinegar and on a side plate were some oily and uninspiring (and decidedly American) hash browns with Heinz ketchup poured into a small cup.  While good this croque and accoutrements certainly wasn\\'t as good as the version the previous day at Pinot and no-where near on par with the versions in Northern California at Butler and the Chef or Bouchon.\\n\\nFinishing my meal and sipping on my coffee again my female server finally returned to my table to ask if I needed anything else - when I asked for a \"to go\" cup of coffee plus the check this duty was pawned off on the young man who\\'d been filling my coffee while she went back to talking to the other female server near the register.  Like Pinot I simply don\\'t understand why \"bistro\" entails sub-par service in Las Vegas and I actually mentioned on my way out suggesting that I wanted my tip (left in cash as opposed to on my credit card as I normally do on vacation) be given to the young man and not my \"server.\"  In general I can\\'t say there is much to brag about at Mon Ami Gabi aside from the view and while the restaurant would certainly stand at the top of French cuisine in Columbus Ohio (my home) I\\'d much sooner go back to Pinot, Bouchon, Payard, or Tableau when in a dining destination city like Las Vegas.',\n",
        "  u'type': u'review',\n",
        "  u'user_id': u'5lq4LkrviYgQ4LJNsBYHcA',\n",
        "  u'votes': {u'cool': 1, u'funny': 1, u'useful': 2}}]"
       ]
      }
     ],
     "prompt_number": 90
    },
    {
     "cell_type": "code",
     "collapsed": false,
     "input": [
      "one_star_reviewers = [r['user_id'] for r in list(yelp.reviews.find({'$and': [{'stars': 3}, {'business_id': u'4bEjOyTaDG24SY5TxsaUNQ'}]}))]"
     ],
     "language": "python",
     "metadata": {},
     "outputs": [],
     "prompt_number": 86
    },
    {
     "cell_type": "code",
     "collapsed": false,
     "input": [
      "l_one = []\n",
      "for reviewer in one_star_reviewers:\n",
      "    l_one.append((reviewer, review_count[reviewer]))"
     ],
     "language": "python",
     "metadata": {},
     "outputs": [],
     "prompt_number": 87
    },
    {
     "cell_type": "code",
     "collapsed": false,
     "input": [
      "l_one.sort(key=lambda tup: tup[1], reverse=True)"
     ],
     "language": "python",
     "metadata": {},
     "outputs": [],
     "prompt_number": 88
    },
    {
     "cell_type": "code",
     "collapsed": false,
     "input": [
      "l_one[:10]"
     ],
     "language": "python",
     "metadata": {},
     "outputs": [
      {
       "metadata": {},
       "output_type": "pyout",
       "prompt_number": 89,
       "text": [
        "[(u'5lq4LkrviYgQ4LJNsBYHcA', 582),\n",
        " (u'zTWH9b_ItSdLOK9ypeFOIw', 459),\n",
        " (u'p7dvahRPZIWL7T6pFA_0dg', 429),\n",
        " (u'OAd-vbR_POac1zHtu-Y2Zg', 407),\n",
        " (u'XHkzCzmIAB3DnjQO7v6jww', 367),\n",
        " (u'4_YfcfHkCem1onJFkItxjA', 301),\n",
        " (u'Yz5sgWyDo8EmWQThEUPQXA', 255),\n",
        " (u'mgViQiuQG_3d2CmLTNW9rA', 220),\n",
        " (u'23zYCcnqfru5jdxnTqjgDg', 202),\n",
        " (u'tmuVweJdPKDnZGnQOq2L2Q', 174)]"
       ]
      }
     ],
     "prompt_number": 89
    },
    {
     "cell_type": "code",
     "collapsed": false,
     "input": [
      "user_8 = [r for r in list(yelp.reviews.find({'user_id': u'5lq4LkrviYgQ4LJNsBYHcA'}))]"
     ],
     "language": "python",
     "metadata": {},
     "outputs": [],
     "prompt_number": 67
    },
    {
     "cell_type": "code",
     "collapsed": false,
     "input": [
      "with open('user_8.pck', 'w') as picklefile:\n",
      "    pickle.dump(user_8, picklefile)"
     ],
     "language": "python",
     "metadata": {},
     "outputs": [],
     "prompt_number": 68
    },
    {
     "cell_type": "code",
     "collapsed": false,
     "input": [
      "user_3 =[r for r in list(yelp.reviews.find({'user_id':'uglRXVWWD6x1EZKfjJawTOg'}))]"
     ],
     "language": "python",
     "metadata": {},
     "outputs": [],
     "prompt_number": 96
    },
    {
     "cell_type": "code",
     "collapsed": false,
     "input": [
      "import pickle\n",
      "with open('restaurant.pck', 'w') as picklefile:\n",
      "    pickle.dump(vegas_resto, picklefile)"
     ],
     "language": "python",
     "metadata": {},
     "outputs": [],
     "prompt_number": 99
    },
    {
     "cell_type": "code",
     "collapsed": false,
     "input": [
      "with open('user_1.pck', 'w') as picklefile:\n",
      "    pickle.dump(user_1, picklefile)"
     ],
     "language": "python",
     "metadata": {},
     "outputs": [],
     "prompt_number": 101
    },
    {
     "cell_type": "code",
     "collapsed": false,
     "input": [
      "with open('user_2.pck', 'w') as picklefile:\n",
      "    pickle.dump(user_2, picklefile)"
     ],
     "language": "python",
     "metadata": {},
     "outputs": [],
     "prompt_number": 103
    },
    {
     "cell_type": "code",
     "collapsed": false,
     "input": [
      "with open('user_3.pck', 'w') as picklefile:\n",
      "    pickle.dump(user_3, picklefile)"
     ],
     "language": "python",
     "metadata": {},
     "outputs": [],
     "prompt_number": 105
    },
    {
     "cell_type": "code",
     "collapsed": false,
     "input": [
      "user_4 =[r for r in list(yelp.reviews.find({'user_id':'lHHwLi_YZuDSfdlSShFkug'}))]"
     ],
     "language": "python",
     "metadata": {},
     "outputs": [],
     "prompt_number": 106
    },
    {
     "cell_type": "code",
     "collapsed": false,
     "input": [
      "with open('user_4.pck', 'w') as picklefile:\n",
      "    pickle.dump(user_4, picklefile)"
     ],
     "language": "python",
     "metadata": {},
     "outputs": [],
     "prompt_number": 107
    },
    {
     "cell_type": "code",
     "collapsed": false,
     "input": [
      "user_5 = [r for r in list(yelp.reviews.find({'user_id':u'EjhVxYFeMUYimoImjMduzQ'}))]"
     ],
     "language": "python",
     "metadata": {},
     "outputs": [],
     "prompt_number": 42
    },
    {
     "cell_type": "code",
     "collapsed": false,
     "input": [
      "import pickle\n",
      "with open('user_5.pck', 'w') as picklefile:\n",
      "    pickle.dump(user_5, picklefile)"
     ],
     "language": "python",
     "metadata": {},
     "outputs": [],
     "prompt_number": 43
    },
    {
     "cell_type": "code",
     "collapsed": false,
     "input": [],
     "language": "python",
     "metadata": {},
     "outputs": []
    }
   ],
   "metadata": {}
  }
 ]
}