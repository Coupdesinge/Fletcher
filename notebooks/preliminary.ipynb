{
 "metadata": {
  "name": "",
  "signature": "sha256:944d63159f4051ec0c0a60c850a40e4f6d3bdacbc59c49079aa7083d047387d6"
 },
 "nbformat": 3,
 "nbformat_minor": 0,
 "worksheets": [
  {
   "cells": [
    {
     "cell_type": "code",
     "collapsed": false,
     "input": [
      "import pickle\n",
      "with open('picklefiles/user_1.pck', 'r') as picklefile:\n",
      "    data = pickle.load(picklefile)\n"
     ],
     "language": "python",
     "metadata": {},
     "outputs": [],
     "prompt_number": 2
    },
    {
     "cell_type": "code",
     "collapsed": false,
     "input": [
      "from collections import defaultdict\n",
      "user = defaultdict(list)\n",
      "for d in data:\n",
      "    user[d['stars']].append(  ((d['text'].split('\\n\\nReturn Factor')[0]).lower()).replace('\\n\\n', ' ')  )"
     ],
     "language": "python",
     "metadata": {},
     "outputs": [],
     "prompt_number": 143
    },
    {
     "cell_type": "code",
     "collapsed": false,
     "input": [
      "#user[1][0].split('\\n\\nReturn Factor')[0]"
     ],
     "language": "python",
     "metadata": {},
     "outputs": [],
     "prompt_number": 37
    },
    {
     "cell_type": "code",
     "collapsed": false,
     "input": [
      "onestar = user[1]\n",
      "fivestar = user[5]"
     ],
     "language": "python",
     "metadata": {},
     "outputs": [],
     "prompt_number": 144
    },
    {
     "cell_type": "code",
     "collapsed": false,
     "input": [
      "onestar[-1]"
     ],
     "language": "python",
     "metadata": {},
     "outputs": [
      {
       "metadata": {},
       "output_type": "pyout",
       "prompt_number": 146,
       "text": [
        "u\"groupon brought me to this joint....and been here several times over the past few months.  we went there tonight for dinner and *bam*, there was a notice on the door that the place was being repossessed by the property owner.  it's closed.  another victim of groupon.....so many deals on groupon are from restaurants that go under.  this is one of many recent joints to go bye bye....\""
       ]
      }
     ],
     "prompt_number": 146
    },
    {
     "cell_type": "code",
     "collapsed": false,
     "input": [
      "import nltk\n",
      "from textblob import TextBlob\n",
      "\n",
      "from nltk.util import ngrams\n",
      "from nltk.tokenize import sent_tokenize, word_tokenize\n",
      "\n",
      "from collections import defaultdict\n",
      "from operator import itemgetter\n",
      "\n",
      "from nltk.corpus import stopwords\n",
      "stop = stopwords.words('english')\n",
      "stop.append(['.', ',', '(', ')', \"'\", '\"', '!', '?', '?!'])\n",
      "\n",
      "counter = defaultdict(int)\n",
      "\n",
      "n = 2\n",
      "for r in fivestar:\n",
      "    words = TextBlob(r).words\n",
      "    words = [w for w in words if w not in stop]\n",
      "    bigrams = ngrams(words, n)\n",
      "    for gram in bigrams:\n",
      "        counter[gram] += 1\n",
      "            \n",
      "for gram, count in sorted(counter.items(), key = itemgetter(1), reverse=True)[:30]:\n",
      "    phrase = \" \".join(gram)\n",
      "    print '%20s %i' % (phrase, count)"
     ],
     "language": "python",
     "metadata": {},
     "outputs": [
      {
       "output_type": "stream",
       "stream": "stdout",
       "text": [
        "              ca n't 45\n",
        "           las vegas 35\n",
        "        one favorite 30\n",
        "         better half 26\n",
        "           could n't 23\n",
        "           come back 20\n",
        "           hot sauce 17\n",
        "            n't wait 17\n",
        "         full flavor 16\n",
        "            see pics 16\n",
        "         golf course 16\n",
        "             'm glad 15\n",
        "          return bet 14\n",
        "http www.yelp.com/biz_photos/davanti-enoteca-scottsdale 13\n",
        "             5 stars 13\n",
        "            n't want 13\n",
        "          overall 's 13\n",
        "           's always 12\n",
        "         wedge salad 12\n",
        "           years ago 12\n",
        "              's one 12\n",
        "            one best 12\n",
        "            's great 11\n",
        "            n't find 11\n",
        "           top notch 11\n",
        "http www.yelp.com/biz_photos/mastros-ocean-club-scottsdale 11\n",
        "          every time 11\n",
        "           've never 11\n",
        "http www.yelp.com/biz_photos/fiesta-bowl-tempe 10\n",
        "       overall great 10\n"
       ]
      }
     ],
     "prompt_number": 111
    },
    {
     "cell_type": "code",
     "collapsed": false,
     "input": [
      "stemmer = nltk.stem.porter.PorterStemmer()\n",
      "for r in onestar[:1]:\n",
      "    for word in TextBlob(r).words:\n",
      "        print stemmer.stem(word)"
     ],
     "language": "python",
     "metadata": {},
     "outputs": [
      {
       "output_type": "stream",
       "stream": "stdout",
       "text": [
        "anoth\n",
        "groupon\n",
        "casualti\n",
        "i\n",
        "bought\n",
        "sever\n",
        "groupon\n",
        "for\n",
        "thi\n",
        "locat\n",
        "and\n",
        "use\n",
        "onli\n",
        "one\n",
        "then\n",
        "we\n",
        "went\n",
        "to\n",
        "go\n",
        "use\n",
        "anoth\n",
        "one\n",
        "the\n",
        "other\n",
        "day\n",
        "and\n",
        "bam\n",
        "it\n",
        "'s\n",
        "gone\n",
        "anoth\n",
        "one\n",
        "bite\n",
        "the\n",
        "dust\n"
       ]
      }
     ],
     "prompt_number": 60
    },
    {
     "cell_type": "code",
     "collapsed": false,
     "input": [
      "# for r in fivestar:\n",
      "#     print TextBlob(r).noun_phrases"
     ],
     "language": "python",
     "metadata": {},
     "outputs": [],
     "prompt_number": 64
    },
    {
     "cell_type": "code",
     "collapsed": false,
     "input": [
      "contractions_dict = { \n",
      "\"ain't\": \"is not\",\n",
      "\"aren't\": \"are not\",\n",
      "\"can't\": \"cannot\",\n",
      "\"can't've\": \"cannot have\",\n",
      "\"'cause\": \"because\",\n",
      "\"could've\": \"could have\",\n",
      "\"couldn't\": \"could not\",\n",
      "\"couldn't've\": \"could not have\",\n",
      "\"didn't\": \"did not\",\n",
      "\"doesn't\": \"does not\",\n",
      "\"don't\": \"do not\",\n",
      "\"hadn't\": \"had not\",\n",
      "\"hadn't've\": \"had not have\",\n",
      "\"hasn't\": \"has not\",\n",
      "\"haven't\": \"have not\",\n",
      "\"he'd\": \"he had\",\n",
      "\"he'd've\": \"he would have\",\n",
      "\"he'll\": \"he will\",\n",
      "\"he'll've\": \"he will have\",\n",
      "\"he's\": \"he is\",\n",
      "\"how'd\": \"how did\",\n",
      "\"how'd'y\": \"how do you\",\n",
      "\"how'll\": \"how will\",\n",
      "\"how's\": \"how is\",\n",
      "\"I'd\": \"I would\",\n",
      "\"I'd've\": \"I would have\",\n",
      "\"I'll\": \"I will\",\n",
      "\"I'll've\": \"I will have\",\n",
      "\"I'm\": \"I am\",\n",
      "\"I've\": \"I have\",\n",
      "\"isn't\": \"is not\",\n",
      "\"it'd\": \"it would\",\n",
      "\"it'd've\": \"it would have\",\n",
      "\"it'll\": \"it will\",\n",
      "\"it'll've\": \"it will have\",\n",
      "\"it's\": \"its\",\n",
      "\"let's\": \"let us\",\n",
      "\"ma'am\": \"madam\",\n",
      "\"mayn't\": \"may not\",\n",
      "\"might've\": \"might have\",\n",
      "\"mightn't\": \"might not\",\n",
      "\"mightn't've\": \"might not have\",\n",
      "\"must've\": \"must have\",\n",
      "\"mustn't\": \"must not\",\n",
      "\"mustn't've\": \"must not have\",\n",
      "\"needn't\": \"need not\",\n",
      "\"needn't've\": \"need not have\",\n",
      "\"o'clock\": \"oclock\",\n",
      "\"oughtn't\": \"ought not\",\n",
      "\"oughtn't've\": \"ought not have\",\n",
      "\"shan't\": \"shall not\",\n",
      "\"sha'n't\": \"shall not\",\n",
      "\"shan't've\": \"shall not have\",\n",
      "\"she'd\": \"she would\",\n",
      "\"she'd've\": \"she would have\",\n",
      "\"she'll\": \"she will\",\n",
      "\"she'll've\": \"she will have\",\n",
      "\"she's\": \"she is\",\n",
      "\"should've\": \"should have\",\n",
      "\"shouldn't\": \"should not\",\n",
      "\"shouldn't've\": \"should not have\",\n",
      "\"so've\": \"so have\",\n",
      "\"so's\": \"so is\",\n",
      "\"that'd\": \"that had\",\n",
      "\"that'd've\": \"that would have\",\n",
      "\"that's\": \"that is\",\n",
      "\"there'd\": \"there would\",\n",
      "\"there'd've\": \"there would have\",\n",
      "\"there's\": \"there is\",\n",
      "\"they'd\": \"they would\",\n",
      "\"they'd've\": \"they would have\",\n",
      "\"they'll\": \"they will\",\n",
      "\"they'll've\": \"they will have\",\n",
      "\"they're\": \"they are\",\n",
      "\"they've\": \"they have\",\n",
      "\"to've\": \"to have\",\n",
      "\"wasn't\": \"was not\",\n",
      "\"we'd\": \"we would\",\n",
      "\"we'd've\": \"we would have\",\n",
      "\"we'll\": \"we will\",\n",
      "\"we'll've\": \"we will have\",\n",
      "\"we're\": \"we are\",\n",
      "\"we've\": \"we have\",\n",
      "\"weren't\": \"were not\",\n",
      "\"what'll\": \"what will\",\n",
      "\"what'll've\": \"what will have\",\n",
      "\"what're\": \"what are\",\n",
      "\"what's\": \"what is\",\n",
      "\"what've\": \"what have\",\n",
      "\"when's\": \"when is\",\n",
      "\"when've\": \"when have\",\n",
      "\"where'd\": \"where did\",\n",
      "\"where's\": \"where is\",\n",
      "\"where've\": \"where have\",\n",
      "\"who'll\": \"who will\",\n",
      "\"who'll've\": \"who will have\",\n",
      "\"who's\": \"who is\",\n",
      "\"who've\": \"who have\",\n",
      "\"why's\": \"why is\",\n",
      "\"why've\": \"why have\",\n",
      "\"will've\": \"will have\",\n",
      "\"won't\": \"will not\",\n",
      "\"won't've\": \"will not have\",\n",
      "\"would've\": \"would have\",\n",
      "\"wouldn't\": \"would not\",\n",
      "\"wouldn't've\": \"would not have\",\n",
      "\"y'all\": \"you all\",\n",
      "\"y'all'd\": \"you all would\",\n",
      "\"y'all'd've\": \"you all would have\",\n",
      "\"y'all're\": \"you all are\",\n",
      "\"y'all've\": \"you all have\",\n",
      "\"you'd\": \"you would\",\n",
      "\"you'd've\": \"you would have\",\n",
      "\"you'll\": \"you will\",\n",
      "\"you'll've\": \"you will have\",\n",
      "\"you're\": \"you are\",\n",
      "\"you've\": \"you have\"\n",
      "}"
     ],
     "language": "python",
     "metadata": {},
     "outputs": [],
     "prompt_number": 70
    },
    {
     "cell_type": "code",
     "collapsed": false,
     "input": [
      "import re\n",
      "contractions_re = re.compile('(%s)' % '|'.join(contractions_dict.keys()))\n",
      "\n",
      "def expand_contractions(s, contractions_dict=contractions_dict):\n",
      "     def replace(match):\n",
      "         return contractions_dict[match.group(0)]\n",
      "     return contractions_re.sub(replace, s)\n",
      "\n",
      "#expand_contractions('You don\\'t need a library')\n"
     ],
     "language": "python",
     "metadata": {},
     "outputs": [],
     "prompt_number": 329
    },
    {
     "cell_type": "code",
     "collapsed": false,
     "input": [
      "re.match"
     ],
     "language": "python",
     "metadata": {},
     "outputs": []
    },
    {
     "cell_type": "code",
     "collapsed": false,
     "input": [
      "type(contractions_re.sub)"
     ],
     "language": "python",
     "metadata": {},
     "outputs": [
      {
       "metadata": {},
       "output_type": "pyout",
       "prompt_number": 331,
       "text": [
        "builtin_function_or_method"
       ]
      }
     ],
     "prompt_number": 331
    },
    {
     "cell_type": "code",
     "collapsed": false,
     "input": [
      "onestar[6]"
     ],
     "language": "python",
     "metadata": {},
     "outputs": [
      {
       "metadata": {},
       "output_type": "pyout",
       "prompt_number": 74,
       "text": [
        "u'showed up at 7:05 pm on a thu night to use a groupon.  they had some ridiculous comedy show that was starting at 8 pm and were requiring tickets.  the guy at the front door says \"sorry, no groupons today, it says there right on the door\" me - \"the groupon says sun-thu.\" him - \"the groupon also says not valid on special events.  tonight is a special event.\" me - \"we checked the website before we drove all the way down here just so we can get notified at the door about a special event?! the website doesn\\'t say anything about a special event tonight.  we don\\'t care about the comedy show, we just want to use our groupon....we\\'ll eat and get out of there before the stupid comedy show starts.\" him - \"i\\'m sorry, no.\" we storm out of there.  what a sham....we drove all the way to this dump just to be notified at the door that it\\'s a special event?!  what kind of notification is that?  if i would\\'ve known about this i wouldn\\'t have purchased the stupid thing.  i promptly emailed groupon and requested a refund, which they promptly gave to me within 12 hrs. i\\'ve been here before to play pool and have a few beers...but no mas, eli\\'s you\\'ve lost my business.'"
       ]
      }
     ],
     "prompt_number": 74
    },
    {
     "cell_type": "code",
     "collapsed": false,
     "input": [
      "expand_contractions(onestar[6])"
     ],
     "language": "python",
     "metadata": {},
     "outputs": [
      {
       "metadata": {},
       "output_type": "pyout",
       "prompt_number": 75,
       "text": [
        "u'showed up at 7:05 pm on a thu night to use a groupon.  they had some ridiculous comedy show that was starting at 8 pm and were requiring tickets.  the guy at the front door says \"sorry, no groupons today, it says there right on the door\" me - \"the groupon says sun-thu.\" him - \"the groupon also says not valid on special events.  tonight is a special event.\" me - \"we checked the website before we drove all the way down here just so we can get notified at the door about a special event?! the website does not say anything about a special event tonight.  we do not care about the comedy show, we just want to use our groupon....we will eat and get out of there before the stupid comedy show starts.\" him - \"i\\'m sorry, no.\" we storm out of there.  what a sham....we drove all the way to this dump just to be notified at the door that its a special event?!  what kind of notification is that?  if i would have known about this i would not have purchased the stupid thing.  i promptly emailed groupon and requested a refund, which they promptly gave to me within 12 hrs. i\\'ve been here before to play pool and have a few beers...but no mas, eli\\'s you have lost my business.'"
       ]
      }
     ],
     "prompt_number": 75
    },
    {
     "cell_type": "code",
     "collapsed": false,
     "input": [
      "no_apostros = {\n",
      "    \"'\": \"\",\n",
      "    \"\\'\": \"\", \n",
      "    \"\\n\": \" \",\n",
      "    \"&\": \"and\"\n",
      "}\n",
      "\n",
      "def no_apostrophes(s, no_apostros=no_apostros):\n",
      "    apostros_re = re.compile('(%s)' % '|'.join(no_apostros.keys()))\n",
      "#      def replace(match):\n",
      "#          return no_apostros[match.group(0)]\n",
      "#      return apostros_re.sub(replace, s)\n",
      "    replace = lambda match: no_apostros[match.group(0)]\n",
      "    return apostros_re.sub(replace, s)\n",
      "    #return apostros_re.sub(no_apostros[(re.match).group(0)], s) \n",
      "\n",
      "\n"
     ],
     "language": "python",
     "metadata": {},
     "outputs": [],
     "prompt_number": 344
    },
    {
     "cell_type": "code",
     "collapsed": false,
     "input": [
      "type(fivestar)"
     ],
     "language": "python",
     "metadata": {},
     "outputs": [
      {
       "metadata": {},
       "output_type": "pyout",
       "prompt_number": 332,
       "text": [
        "list"
       ]
      }
     ],
     "prompt_number": 332
    },
    {
     "cell_type": "code",
     "collapsed": false,
     "input": [],
     "language": "python",
     "metadata": {},
     "outputs": [],
     "prompt_number": 345
    },
    {
     "cell_type": "code",
     "collapsed": false,
     "input": [
      "no_apostrophes(fivestar[-1])"
     ],
     "language": "python",
     "metadata": {},
     "outputs": [
      {
       "metadata": {},
       "output_type": "pyout",
       "prompt_number": 345,
       "text": [
        "u'another place that has been on my hit list for a while now.  they have a location up in the pinnacle peak and grayhawk area and when i heard they were coming down to old town, i had to come try it for myself.  we walked into the joint and sat down at the bar.  the bartenders here are very friendly and helped us navigate the menu and gave us some suggestions.  we decided to order: hot and smokey mac and cheese, $12 http://www.yelp.com/biz_photos/cold-beers-and-cheeseburgers-old-town-scottsdale-scottsdale?select=mmielx6jnddphjhsrq5jtg#mmielx6jnddphjhsrq5jtg chili mac and cheese, $10 http://www.yelp.com/biz_photos/cold-beers-and-cheeseburgers-old-town-scottsdale-scottsdale?select=62xm74smxg1lnssu8ne2_g#62xm74smxg1lnssu8ne2_g cheeseburger sliders, $9 http://www.yelp.com/biz_photos/cold-beers-and-cheeseburgers-old-town-scottsdale-scottsdale?select=hz5v7obudjsojuqevdinlw#hz5v7obudjsojuqevdinlw http://www.yelp.com/biz_photos/cold-beers-and-cheeseburgers-old-town-scottsdale-scottsdale?select=-ux2s-3a70zzzw3uulaugg#-ux2s-3a70zzzw3uulaugg prime rib sliders, $12 http://www.yelp.com/biz_photos/cold-beers-and-cheeseburgers-old-town-scottsdale-scottsdale?select=teumvafqzmflgzwqb0buxw#teumvafqzmflgzwqb0buxw while we waited for the food, i ordered a pint of lagunitas ipa, $6....one of my favorite ipas. the food came out a short time later.  the first thing i did was try the hot and smokey mac and cheese....and holy smokes, it was delish!  not only that, but it really was spicy too...and smokey!  i also had a bite of the chili mac and cheese...that was ridiculously good as well! next, i tried the sliders....had the cheeseburger slider first....also very well prepared and full of flavor.  the prime rib sliders were just as good and the horseradish sauce was a zinger that added to the flavor!  we were very impressed with this place. after dinner we watched some baseball and had another beer.  good times down here...cant wait to come back.'"
       ]
      }
     ],
     "prompt_number": 345
    },
    {
     "cell_type": "code",
     "collapsed": false,
     "input": [
      "n = 3\n",
      "for r in fivestar:\n",
      "    words = TextBlob(no_apostrophes(r)).words\n",
      "    words = [w for w in words if w not in stop]\n",
      "    bigrams = ngrams(words, n)\n",
      "    for gram in bigrams:\n",
      "        counter[gram] += 1\n",
      "            \n",
      "for gram, count in sorted(counter.items(), key = itemgetter(1), reverse=True)[:30]:\n",
      "    phrase = \" \".join(gram)\n",
      "    print '%20s %i' % (phrase, count)"
     ],
     "language": "python",
     "metadata": {},
     "outputs": [
      {
       "output_type": "stream",
       "stream": "stdout",
       "text": [
        "              ca n't 45\n",
        "           las vegas 35\n",
        "        one favorite 30\n",
        "         better half 26\n",
        "           could n't 23\n",
        "        mac n cheese 22\n",
        "           come back 20\n",
        "           hot sauce 17\n",
        "            n't wait 17\n",
        "            see pics 16\n",
        "         golf course 16\n",
        "         full flavor 16\n",
        "             'm glad 15\n",
        " one favorite places 14\n",
        "          return bet 14\n",
        "             5 stars 13\n",
        "            n't want 13\n",
        "http www.yelp.com/biz_photos/davanti-enoteca-scottsdale 13\n",
        "          overall 's 13\n",
        "         wedge salad 12\n",
        "            one best 12\n",
        "    gorgonzola mac n 12\n",
        "           's always 12\n",
        "           years ago 12\n",
        "              's one 12\n",
        "            n't find 11\n",
        "          every time 11\n",
        "            's great 11\n",
        "           top notch 11\n",
        "http www.yelp.com/biz_photos/mastros-ocean-club-scottsdale 11\n"
       ]
      }
     ],
     "prompt_number": 123
    },
    {
     "cell_type": "code",
     "collapsed": false,
     "input": [
      "onestar = [no_apostrophes(o) for o in onestar]\n",
      "fivestar = [no_apostrophes(o) for o in fivestar]\n",
      "twostar = [no_apostrophes(o) for o in user[2]]\n",
      "threestar = [no_apostrophes(o) for o in user[3]]\n",
      "fourstar = [no_apostrophes(o) for o in user[4]]\n"
     ],
     "language": "python",
     "metadata": {},
     "outputs": [],
     "prompt_number": 147
    },
    {
     "cell_type": "code",
     "collapsed": false,
     "input": [
      "import numpy as np\n",
      "from sklearn.feature_extraction.text import TfidfVectorizer\n",
      "from sklearn.cluster import KMeans"
     ],
     "language": "python",
     "metadata": {},
     "outputs": [],
     "prompt_number": 130
    },
    {
     "cell_type": "markdown",
     "metadata": {},
     "source": [
      "#Fivestar"
     ]
    },
    {
     "cell_type": "code",
     "collapsed": false,
     "input": [
      "vectorizer = TfidfVectorizer(stop_words=\"english\", ngram_range=(1,1))\n",
      "fivestar_vectors = vectorizer.fit_transform(fivestar)"
     ],
     "language": "python",
     "metadata": {},
     "outputs": [],
     "prompt_number": 292
    },
    {
     "cell_type": "markdown",
     "metadata": {},
     "source": [
      "class sklearn.feature_extraction.text.TfidfVectorizer(input=u'content', encoding=u'utf-8', charset=None, decode_error=u'strict', charset_error=None, strip_accents=None, lowercase=True, preprocessor=None, tokenizer=None, analyzer=u'word', stop_words=None, token_pattern=u'(?u)\\b\\w\\w+\\b', ngram_range=(1, 1), max_df=1.0, min_df=1, max_features=None, vocabulary=None, binary=False, dtype=<type 'numpy.int64'>, norm=u'l2', use_idf=True, smooth_idf=True, sublinear_tf=False)"
     ]
    },
    {
     "cell_type": "code",
     "collapsed": false,
     "input": [
      "fivestar_vectors.shape[0]"
     ],
     "language": "python",
     "metadata": {},
     "outputs": [
      {
       "metadata": {},
       "output_type": "pyout",
       "prompt_number": 346,
       "text": [
        "183"
       ]
      }
     ],
     "prompt_number": 346
    },
    {
     "cell_type": "code",
     "collapsed": false,
     "input": [
      "km = KMeans()\n",
      "cluster = km.fit(fivestar_vectors)"
     ],
     "language": "python",
     "metadata": {},
     "outputs": [],
     "prompt_number": 355
    },
    {
     "cell_type": "code",
     "collapsed": false,
     "input": [
      "set(cluster.labels_)\n",
      "#cluster = km.fit_predict(fivestar_vectors)"
     ],
     "language": "python",
     "metadata": {},
     "outputs": [
      {
       "metadata": {},
       "output_type": "pyout",
       "prompt_number": 357,
       "text": [
        "{0, 1, 2, 3, 4, 5, 6, 7}"
       ]
      }
     ],
     "prompt_number": 357
    },
    {
     "cell_type": "code",
     "collapsed": false,
     "input": [
      "cluster = cluster.predict(fivestar_vectors)"
     ],
     "language": "python",
     "metadata": {},
     "outputs": [],
     "prompt_number": 360
    },
    {
     "cell_type": "code",
     "collapsed": false,
     "input": [
      "len(cluster)"
     ],
     "language": "python",
     "metadata": {},
     "outputs": [
      {
       "metadata": {},
       "output_type": "pyout",
       "prompt_number": 365,
       "text": [
        "183"
       ]
      }
     ],
     "prompt_number": 365
    },
    {
     "cell_type": "code",
     "collapsed": false,
     "input": [
      "reviews = defaultdict(list)\n",
      "#i = 0\n",
      "for i in range(0, len(fivestar)):\n",
      "    reviews[cluster[i]].append(fivestar[i])\n",
      "    #i += 1"
     ],
     "language": "python",
     "metadata": {},
     "outputs": [],
     "prompt_number": 368
    },
    {
     "cell_type": "code",
     "collapsed": false,
     "input": [
      "for c in reviews:\n",
      "    if c == 0:\n",
      "        print reviews[c]"
     ],
     "language": "python",
     "metadata": {},
     "outputs": [
      {
       "output_type": "stream",
       "stream": "stdout",
       "text": [
        "[u'this is one of my familys favorite restaurants.  we eat here at least once a month. food - some of our favorite dishes are the pad thai tofu, pad see ew, spicy chicken curry.  for appetizers, we enjoy the sweet and sour cucumbers and the edamame.  when you order your entree, you tell the waiter how spicy you want your food on a scale from 1-10 with 10 being the spiciest level.  i generally get a 5 or 6. service - the employee to customer ratio in this restaurant is pretty high.  my guess is that they dont make very much in terms of an hourly wage.  either way, the service is always good. will i return?  you bet!', u'just went for my 6 month cleaning and checkup today.  everything went smooth and my dental hygienist, sonya, did a great job as usual.  will be back in 6 months!', u'this is easily my favorite mexican restaurant in las vegas.  the chips and salsa are great.....both are home made and the salsa is very spicy.....just the way i like it.  it is not for the weak. my favorite dishes are: queso fundido w/chorizo - basically a cheese appetizer with chorizo served on a hot fajita plate.  comes with flour or corn tortillas....this is very good.  i order this when i take friends to this restaurant for the 1st time and every one of them agree with me. carne asada burrito - very tasty, good quality carne asada. inside their menu, they have a lot of dishes to choose from....not to mention an extensive combo menu where there are a lot of combo dishes.....i have tried at least 7 or 8 different combos...all are very good. we go to this restaurant at least 1 to 2 times per month for lunch at work and 1 time per month for dinner.  the prices are very reasonable too.', u'im a member at the stirling club and enjoy this facility tremendously.  the workout room, swimming pool and mens locker room/lounge/sauna/spa is upscale and clean. the staff is very helpful and friendly.  there are always fresh towels and robes.  the lockers are huge and the toiletries are top notch.  i enjoy my morning workouts here. will i come back?  are you kidding me?  of course....every day.', u'took my mom to breakfast on nye morning.  it was 10:30 am and the place was packed!  we placed our name on the wait list and were seated after a short 10 minute wait. i was torn between the short stack multi-grain pancakes or the raspberry cream cheese filled french toast.  i decided on the raspberry french toast ($9.25).  mom ordered a hamburger ($7.35). after a short wait our food was ready.  i forgot how large the portions are....my raspberry french toast was enough to feed 2 people!  thats coming from a guy who can eat a lot! (see pics) the french toast was dusted with powdered sugar and had fresh raspberries on top in addition to the raspberry flavored cream cheese in the middle (see pics).  i put a little syrup on the first bite.....yum!  it tasted sooo good!  as a matter of fact, i didnt need the syrup because it tasted just fine without it.  i didnt use much syrup for the rest of the dish.  there was so much food i couldnt finish my plate. mom enjoyed her hamburger but thought her seasoned fries were too salty.  i tried a few....they tasted good to me, but i could see how she felt they were too salty.  i dont mind a lot of salt. overall it was another great meal @ the cracked egg. will i return?  you bet!', u'ok, im upgrading fresh and easy to 5 stars for the following reasons.... - their fresh baked bread from il fornaio......im a bread lover and its freakin amazing....i crave it. - their no hfcs whole grain white bread....a bread lovers dream. - their discounted pre-made meals.  you can pick up some great meals for under $2.50 if you go early in the morning when they mark them down. will i return?  hell yeah!', u'my family loves lindo michoachan.  this location is the closest to our home, so we eat here often. the restaurant gets very crowded during peak hours....heres a secret of ours....we like to come at 10 am on sunday morning for an early lunch.  why?  because there is nobody there yet and you get seated right away. food - during my most recent visit i had the milanesa torta.....it was the first time ive tried a torta at lindo and it did not disappoint.  the bread was perfect and the milanesa was cooked perfectly. we also enjoy the fresh chips and salsa that also includes bean dip.  most mexican restaurants dont give you beans with your chips and salsa, but they do! the tortillas are made fresh daily....if you dont believe me, you can watch them make it.  they have an action station where a woman prepares fresh tortillas. service - the employee to customer ratio is very high so your water glass is never too empty and the chips and salsa will be replenished quickly. will i return?  oh yeah!', u'today was fathers day and my moms birthday, so we decided to grab some lunch here.  heres a tip.....if you want to come here on a holiday and you dont mind eating lunch early, stop by between 9:30-10:30 am.....its open and theres no wait to get in.  if you come after 11 am, it will be jam packed. i ordered the nachos and mom ordered the playa combo....which is a chile relleno and chicken taco.  the food came out quickly and of course everything was fresh and delicious. i love how they have complimentary unlimited chips and salsa w/beans.  the salsa is spicy, just right and the chips are homemade. this place never disappoints! happy fathers day to all the dads out there! \\xbfvoy a volver? \\xa1por supuesto!  (will i return?  of course!)', u'was looking around yelp for lunch today and saw @jennifer rs review.....after reading it and the other review of this place, i had to try it out.  i wanted to beat the lunch rush so i could get a table, so i got there around 11:30.....perfect timing.  i was the only non-mexican patron in the restaurant (out of 12 people). there are four 4 top tables and one 2 top table in the restaurant.  i snagged a 4 top right in front of the counter and ordered a carne asada burrito and a carne asada taco.  out of the corner of my eye i noticed a jarritos orange soda in the cooler....of course i had to get one......sweetened with natural sugar and not hfcs, its one of my favs. while i was waiting for my food, i went to the salsa bar and prepared some red (hot), green (mild), and pico de gallo salsa.  its a small salsa bar, but what it lacks in quantity it makes up in quality.  then i no ticed in the cooler an odd bottle that said \"sangria\" on it.....what the frijoles? (see pics)  so, i went to investigate.....turns out its \"non-alcoholic\".....dammit, fools gold!  who would drink that???  blech! within a few minutes my food was ready.  i went for the taco first.....devoured it in 3 bites.....it was amazing!  the carne asada is marinaded with the same flavor i remember back in so cal.....i think i found taco nirvana!  then i went for the burrito.....its a nice size for $3.99, great value.  the burrito didnt disappoint either!  it was amazing!  a quick note for the gringos....if you order the burrito with \"everything\", it will already have hot (red) salsa inside the burrito....and its pretty spicy, so if youre sensitive to that, tell them without salsa.  the burrito had carne asada, beans, rice, salsa, and onions in it.....good proportions of all ingredients too.  just like the taco, the asadas flavor was just right. overall, this place has just launched itself to the top of my taco shop list.  thanks @jennifer r for that review! will i return?  orale, of course!', u'i love listening to this station for classic rock during the day and foxx and mackenzie in the morning.  fandm are hilarious and always have interesting topics to discuss.  the playlist of classic rock during the day is sometimes predictable but the songs are always very good.   i love this station!']\n"
       ]
      }
     ],
     "prompt_number": 377
    },
    {
     "cell_type": "code",
     "collapsed": false,
     "input": [
      "for i in range(8):\n",
      "    print i, len([c[1] for c in reviews if c[0] == i])"
     ],
     "language": "python",
     "metadata": {},
     "outputs": [
      {
       "output_type": "stream",
       "stream": "stdout",
       "text": [
        "0 16\n",
        "1 27\n",
        "2 27\n",
        "3 28\n",
        "4 29\n",
        "5 20\n",
        "6 21\n",
        "7 15\n"
       ]
      }
     ],
     "prompt_number": 254
    },
    {
     "cell_type": "code",
     "collapsed": false,
     "input": [
      "#[c for c in reviews if c[0] == 2]"
     ],
     "language": "python",
     "metadata": {},
     "outputs": [],
     "prompt_number": 258
    },
    {
     "cell_type": "code",
     "collapsed": false,
     "input": [
      "v = [vectorizer.fit_transform(reviews[c]) for c in reviews]"
     ],
     "language": "python",
     "metadata": {},
     "outputs": [],
     "prompt_number": 380
    },
    {
     "cell_type": "code",
     "collapsed": false,
     "input": [
      "v[0][8].data"
     ],
     "language": "python",
     "metadata": {},
     "outputs": [
      {
       "metadata": {},
       "output_type": "pyout",
       "prompt_number": 413,
       "text": [
        "<1x407 sparse matrix of type '<type 'numpy.float64'>'\n",
        "\twith 124 stored elements in Compressed Sparse Row format>"
       ]
      }
     ],
     "prompt_number": 413
    },
    {
     "cell_type": "code",
     "collapsed": false,
     "input": [
      "words = v[0][8].data.argsort()[-5:]\n",
      "for j in v[0][8].indices[words]:\n",
      "    print vectorizer.get_feature_names()[j]"
     ],
     "language": "python",
     "metadata": {},
     "outputs": [
      {
       "output_type": "stream",
       "stream": "stdout",
       "text": [
        "reason\n",
        "atop\n",
        "movie\n",
        "partied\n",
        "artist\n"
       ]
      }
     ],
     "prompt_number": 423
    },
    {
     "cell_type": "code",
     "collapsed": false,
     "input": [
      "#from itertools import izip \n",
      "\n",
      "for i in range(8):\n",
      "    v = vectorizer.fit_transform([c[1] for c in reviews if c[0] == i])\n",
      "    print(\"Top 5 words in cluster{}\".format(i+1))\n",
      "    words = v[i].data.argsort()[-5:]\n",
      "\n",
      "    for (j,k) in izip(v[i].indices[words], v[i].data[words]):\n",
      "        print(\"\\tWord: {}, TF-IDF: {}\".format(vectorizer.get_feature_names()[j], k))"
     ],
     "language": "python",
     "metadata": {},
     "outputs": [
      {
       "ename": "IndexError",
       "evalue": "invalid index to scalar variable.",
       "output_type": "pyerr",
       "traceback": [
        "\u001b[0;31m---------------------------------------------------------------------------\u001b[0m\n\u001b[0;31mIndexError\u001b[0m                                Traceback (most recent call last)",
        "\u001b[0;32m<ipython-input-420-58064ddd3a0a>\u001b[0m in \u001b[0;36m<module>\u001b[0;34m()\u001b[0m\n\u001b[1;32m      2\u001b[0m \u001b[0;34m\u001b[0m\u001b[0m\n\u001b[1;32m      3\u001b[0m \u001b[0;32mfor\u001b[0m \u001b[0mi\u001b[0m \u001b[0;32min\u001b[0m \u001b[0mrange\u001b[0m\u001b[0;34m(\u001b[0m\u001b[0;36m8\u001b[0m\u001b[0;34m)\u001b[0m\u001b[0;34m:\u001b[0m\u001b[0;34m\u001b[0m\u001b[0m\n\u001b[0;32m----> 4\u001b[0;31m     \u001b[0mv\u001b[0m \u001b[0;34m=\u001b[0m \u001b[0mvectorizer\u001b[0m\u001b[0;34m.\u001b[0m\u001b[0mfit_transform\u001b[0m\u001b[0;34m(\u001b[0m\u001b[0;34m[\u001b[0m\u001b[0mc\u001b[0m\u001b[0;34m[\u001b[0m\u001b[0;36m1\u001b[0m\u001b[0;34m]\u001b[0m \u001b[0;32mfor\u001b[0m \u001b[0mc\u001b[0m \u001b[0;32min\u001b[0m \u001b[0mreviews\u001b[0m \u001b[0;32mif\u001b[0m \u001b[0mc\u001b[0m\u001b[0;34m[\u001b[0m\u001b[0;36m0\u001b[0m\u001b[0;34m]\u001b[0m \u001b[0;34m==\u001b[0m \u001b[0mi\u001b[0m\u001b[0;34m]\u001b[0m\u001b[0;34m)\u001b[0m\u001b[0;34m\u001b[0m\u001b[0m\n\u001b[0m\u001b[1;32m      5\u001b[0m     \u001b[0;32mprint\u001b[0m\u001b[0;34m(\u001b[0m\u001b[0;34m\"Top 5 words in cluster{}\"\u001b[0m\u001b[0;34m.\u001b[0m\u001b[0mformat\u001b[0m\u001b[0;34m(\u001b[0m\u001b[0mi\u001b[0m\u001b[0;34m+\u001b[0m\u001b[0;36m1\u001b[0m\u001b[0;34m)\u001b[0m\u001b[0;34m)\u001b[0m\u001b[0;34m\u001b[0m\u001b[0m\n\u001b[1;32m      6\u001b[0m     \u001b[0mwords\u001b[0m \u001b[0;34m=\u001b[0m \u001b[0mv\u001b[0m\u001b[0;34m[\u001b[0m\u001b[0mi\u001b[0m\u001b[0;34m]\u001b[0m\u001b[0;34m.\u001b[0m\u001b[0mdata\u001b[0m\u001b[0;34m.\u001b[0m\u001b[0margsort\u001b[0m\u001b[0;34m(\u001b[0m\u001b[0;34m)\u001b[0m\u001b[0;34m[\u001b[0m\u001b[0;34m-\u001b[0m\u001b[0;36m5\u001b[0m\u001b[0;34m:\u001b[0m\u001b[0;34m]\u001b[0m\u001b[0;34m\u001b[0m\u001b[0m\n",
        "\u001b[0;31mIndexError\u001b[0m: invalid index to scalar variable."
       ]
      }
     ],
     "prompt_number": 420
    },
    {
     "cell_type": "code",
     "collapsed": false,
     "input": [
      "clusterone = [c[1] for c in reviews if c[0] == 0]"
     ],
     "language": "python",
     "metadata": {},
     "outputs": [],
     "prompt_number": 306
    },
    {
     "cell_type": "code",
     "collapsed": false,
     "input": [
      "sentences = []\n",
      "for c in clusterone:\n",
      "    for s in TextBlob(c).sentences:\n",
      "        sentences.append(s)"
     ],
     "language": "python",
     "metadata": {},
     "outputs": [],
     "prompt_number": 307
    },
    {
     "cell_type": "code",
     "collapsed": false,
     "input": [
      "best= []\n",
      "top_words = ['italian', 'lunch', 'specials', 'golf', 'panini']\n",
      "#top_words = ['absolutely', 'dishes', 'lunch', 'eating', 'garlic']\n",
      "for s in sentences:\n",
      "    for w in top_words:\n",
      "        if w in s:\n",
      "            best.append(s)"
     ],
     "language": "python",
     "metadata": {},
     "outputs": [],
     "prompt_number": 308
    },
    {
     "cell_type": "code",
     "collapsed": false,
     "input": [
      "for s in best:\n",
      "    f = s.sentiment\n",
      "    print f.polarity, f.subjectivity\n",
      "    print s"
     ],
     "language": "python",
     "metadata": {},
     "outputs": [
      {
       "output_type": "stream",
       "stream": "stdout",
       "text": [
        "0.0 0.0\n",
        "since we just got out of a meeting downtown, we decided to grab lunch here.\n",
        "-0.25 0.25\n",
        "pictures of past golf tournaments and celebrities line the hallways.\n",
        "-0.155555555556 0.288888888889\n",
        "we went upstairs to the dining room and sat down for lunch.\n",
        "0.4875 0.65\n",
        "the server was very friendly and went over the menu and specials.\n",
        "0.0 0.0\n",
        "one of the specials caught my attention, an italian panini w/fries, so i ordered it.\n",
        "0.0 0.0\n",
        "one of the specials caught my attention, an italian panini w/fries, so i ordered it.\n",
        "0.0 0.0\n",
        "one of the specials caught my attention, an italian panini w/fries, so i ordered it.\n",
        "-0.05 0.2\n",
        "it was a few minutes after noon and the place started to get busy for lunch.\n",
        "0.15 0.3\n",
        "many businessmen from the area were having lunch as well as a few retirees and a couple of golfers.\n",
        "0.15 0.3\n",
        "many businessmen from the area were having lunch as well as a few retirees and a couple of golfers.\n",
        "0.362 0.518\n",
        "the italian panini was awesome, full of flavor and the ingredients was fresh and high quality.\n",
        "0.362 0.518\n",
        "the italian panini was awesome, full of flavor and the ingredients was fresh and high quality.\n",
        "0.407142857143 0.714285714286\n",
        "nice sized portion too....actually, it was large for a panini.\n",
        "0.0 0.0\n",
        "cant wait to come back and play some golf!\n",
        "0.5 1.0\n",
        "tucked away inside the royal palms resort, this restaurant is a favorite place of mine for lunch.\n",
        "0.0 0.0\n",
        "my go to item on the lunch menu is the t-cooks burger, $14.\n",
        "0.466666666667 0.433333333333\n",
        "they really take good care of you here....lunch service feels like dinner service, top notch.\n",
        "0.0 0.0\n",
        "a colleague suggested that we come here for a lunch meeting one day.\n",
        "0.0 0.0\n",
        "you feel like youre dining in a 5 diamond restaurant....and its lunch!\n",
        "0.0 0.0\n",
        "another tip, if you come for lunch you can make reservations.\n",
        "0.0 0.0\n",
        "i asked about the sculpture on the golf course and they brought me a pamphlet explaining the origin of the sculpture, the artist, and the property.\n",
        "5.55111512313e-17 0.95\n",
        "the food we were served for lunch and dinner at the conference was amazing too......filet and mashed potatoes for dinner and cold cut sandwiches for lunch.\n",
        "0.0 0.0\n",
        "in addition to staying here, i come here for lunch from time to time with colleagues.\n",
        "0.025 0.283333333333\n",
        "i ate there for lunch last year when our general manager hosted a luncheon for management during christmas week.\n",
        "-0.3 0.4\n",
        "we go to this restaurant at least 1 to 2 times per month for lunch at work and 1 time per month for dinner.\n",
        "-0.125 0.375\n",
        "met a colleague for lunch here the other day.\n",
        "0.1 0.4\n",
        "its near the howard hughes business area so theres always a ton of businessmen and women having lunch here on weekdays.\n",
        "0.0 0.0\n",
        "with this in mind, we decided to meet at 11:30 am (opening time) to beat the lunch rush.\n",
        "0.55 0.55\n",
        "the atmosphere is upscale and professional, perfect for our lunch meeting.\n",
        "0.6 0.9\n",
        "hint - if you want to try their amazing prime rib but dont want to pay the dinner prices, come for lunch and get the lunch cut prime rib, which was $20 i believe.\n",
        "0.0833333333333 0.111111111111\n",
        "since that first visit, ive been back several times for lunch and dinner.\n",
        "0.0 0.0\n",
        "some items ive had here: wedge salad w/gorgonzola beefsteak tomato salad w/bleu cheese crumbles french dip 12 oz filet chop house burger w/cheese side of rice pilaf for lunch, my 2 fav items are the french dip and the chop house burger w/cheese.\n",
        "0.172222222222 0.444444444444\n",
        "we had all night and was enjoying the company, so our waiter ran down the specials list and then gave us time to decide.\n",
        "0.0 0.0\n",
        "dropped by for lunch with a friend.\n",
        "0.1875 0.375\n",
        "we decided that we were going to order an original sandwich and an italian sandwich.....that we we could split each of them and give them both a try.\n",
        "0.0297619047619 0.175595238095\n",
        "so, i couldnt wait to eat my half of the italian (salami, capicola, roasted ham, mortadella, mozzarella cheese, roma tomato, and zesty italian dressing).....again, it was toasted just right.\n",
        "1.0 1.0\n",
        "this is a superb place to have lunch or brunch.\n",
        "-0.5 1.0\n",
        "when i feel like having breakfast at lunch, ill go for the omelet.....it never disappoints.\n",
        "-0.0333333333333 0.433333333333\n",
        "the restaurant gets very crowded during peak hours....heres a secret of ours....we like to come at 10 am on sunday morning for an early lunch.\n",
        "0.0 0.0\n",
        "today was fathers day and my moms birthday, so we decided to grab some lunch here.\n",
        "0.05 0.4\n",
        "heres a tip.....if you want to come here on a holiday and you dont mind eating lunch early, stop by between 9:30-10:30 am.....its open and theres no wait to get in.\n",
        "0.0 0.0\n",
        "i was here to meet a client for a business meeting and lunch.\n",
        "-0.125 0.375\n",
        "was looking around yelp for lunch today and saw @jennifer rs review.....after reading it and the other review of this place, i had to try it out.\n",
        "0.0 0.0\n",
        "i wanted to beat the lunch rush so i could get a table, so i got there around 11:30.....perfect timing.\n",
        "0.0625 0.8\n",
        "stopped by for lunch and had a johnny sack (hot capacola, sharp provolone, prosciutto, lettuce, and tomatoes soaked in balsamic vinegar and olive oil) $8.49.\n",
        "-0.0208333333333 0.395833333333\n",
        "one thing you should know is that most of their sandwiches are made with their signature \"hard roll\", which is hard italian bread.\n",
        "-0.245833333333 0.320833333333\n",
        "i happened to be in the area meeting a friend for lunch at kona grill, so i stopped in here for a few minutes to look for a hard to find tequila.\n",
        "-0.166666666667 0.433333333333\n",
        "heres why: i stopped in for lunch and saw their recommended sandwich of the week.....a nachowich (black bean patty, cheese whiz, salsa, lettuce, tomatoes, jalapenos, avocado)....total with tax and a bag of chips, $7.95.\n",
        "0.0 0.0333333333333\n",
        "last visit, i got an italian sub.\n"
       ]
      }
     ],
     "prompt_number": 394
    },
    {
     "cell_type": "code",
     "collapsed": false,
     "input": [
      "from textblob.sentiments import NaiveBayesAnalyzer"
     ],
     "language": "python",
     "metadata": {},
     "outputs": [],
     "prompt_number": 395
    },
    {
     "cell_type": "code",
     "collapsed": false,
     "input": [
      "sentences = []\n",
      "for c in clusterone:\n",
      "    for s in TextBlob(c, analyzer=NaiveBayesAnalyzer()).sentences:\n",
      "        sentences.append(s)"
     ],
     "language": "python",
     "metadata": {},
     "outputs": [],
     "prompt_number": 403
    },
    {
     "cell_type": "code",
     "collapsed": false,
     "input": [
      "len(sentences)"
     ],
     "language": "python",
     "metadata": {},
     "outputs": [
      {
       "metadata": {},
       "output_type": "pyout",
       "prompt_number": 411,
       "text": [
        "139"
       ]
      }
     ],
     "prompt_number": 411
    },
    {
     "cell_type": "code",
     "collapsed": false,
     "input": [
      "best= []\n",
      "top_words = ['italian', 'lunch', 'specials', 'golf', 'panini']\n",
      "#top_words = ['absolutely', 'dishes', 'lunch', 'eating', 'garlic']\n",
      "for s in sentences:\n",
      "    for w in top_words:\n",
      "        if w in s:\n",
      "            best.append(s)"
     ],
     "language": "python",
     "metadata": {},
     "outputs": [],
     "prompt_number": 409
    },
    {
     "cell_type": "code",
     "collapsed": false,
     "input": [
      "len(best)"
     ],
     "language": "python",
     "metadata": {},
     "outputs": [
      {
       "metadata": {},
       "output_type": "pyout",
       "prompt_number": 412,
       "text": [
        "2"
       ]
      }
     ],
     "prompt_number": 412
    },
    {
     "cell_type": "code",
     "collapsed": false,
     "input": [
      "for s in best:\n",
      "    f = s.sentiment\n",
      "    print f\n",
      "    print s"
     ],
     "language": "python",
     "metadata": {},
     "outputs": [
      {
       "output_type": "stream",
       "stream": "stdout",
       "text": [
        "Sentiment(classification='pos', p_pos=0.9500546755075759, p_neg=0.04994532449242474)\n",
        "***original review*** i passed by this place yesterday after having lunch at upper crust pizza....it was very busy and looked cool, so i said i would try it the next day.\n",
        "Sentiment(classification='neg', p_pos=0.1183553006935456, p_neg=0.8816446993064531)\n",
        "well....i stopped by for lunch after a workout at the gym.\n"
       ]
      }
     ],
     "prompt_number": 410
    },
    {
     "cell_type": "code",
     "collapsed": false,
     "input": [
      "# for i in range(8):\n",
      "#     print(\"Top 5 NOUNS in cluster{}\".format(i+1))\n",
      "#     v = vectorizer.fit_transform([c[1] for c in reviews if c[0] == i])\n",
      "    \n",
      "#     words = [x for x in v[i].indices[v[i].data.argsort()[::-1]] if TextBlob(vectorizer.get_feature_names()[x]).tags[0][1] == 'NN']\n",
      "\n",
      "#     top5 = words[:6]\n",
      "#     for j in top5:\n",
      "#         print vectorizer.get_feature_names()[j]\n",
      "#         print"
     ],
     "language": "python",
     "metadata": {},
     "outputs": [],
     "prompt_number": 291
    },
    {
     "cell_type": "markdown",
     "metadata": {},
     "source": [
      "#One star"
     ]
    },
    {
     "cell_type": "code",
     "collapsed": false,
     "input": [
      "onestar_vectors = vectorizer.fit_transform(onestar)"
     ],
     "language": "python",
     "metadata": {},
     "outputs": [],
     "prompt_number": 310
    },
    {
     "cell_type": "code",
     "collapsed": false,
     "input": [
      "onestar_vectors.shape"
     ],
     "language": "python",
     "metadata": {},
     "outputs": [
      {
       "metadata": {},
       "output_type": "pyout",
       "prompt_number": 311,
       "text": [
        "(17, 613)"
       ]
      }
     ],
     "prompt_number": 311
    },
    {
     "cell_type": "code",
     "collapsed": false,
     "input": [
      "km = KMeans(n_clusters = 2)\n",
      "cluster = km.fit_predict(onestar_vectors)"
     ],
     "language": "python",
     "metadata": {},
     "outputs": [],
     "prompt_number": 312
    },
    {
     "cell_type": "code",
     "collapsed": false,
     "input": [
      "reviews = []\n",
      "i = 0\n",
      "for i in range(0, len(onestar)):\n",
      "    reviews.append((cluster[i], onestar[i]))\n",
      "    i += 1\n",
      "    \n",
      "for i in range(2):\n",
      "    print i, len([c[1] for c in reviews if c[0] == i])"
     ],
     "language": "python",
     "metadata": {},
     "outputs": [
      {
       "output_type": "stream",
       "stream": "stdout",
       "text": [
        "0 7\n",
        "1 10\n"
       ]
      }
     ],
     "prompt_number": 313
    },
    {
     "cell_type": "code",
     "collapsed": false,
     "input": [
      "[c[1] for c in reviews if c[0] == 1]"
     ],
     "language": "python",
     "metadata": {},
     "outputs": [
      {
       "metadata": {},
       "output_type": "pyout",
       "prompt_number": 322,
       "text": [
        "[u'i havent been to fatburger in a while and this was my 1st time to visit this location.  im a fan of fatburger, but not this location.  heres why. food - 4 stars i was prepared to give this place a 4 star rating.  i noticed a new menu since my last visit to a fatburger and ordered a xxl with all of the toppings and added bacon and cheese.  for a side, i ordered the skinny fries. after a 15 minute wait, i received my food.  to my surprise, the burger was huge!  i should have paid more attention to the menu because this monster was more than i expected.....i guess i should have ordered a xl. i attacked the burger and the fatburger taste that i grew up with was still there.  the sharp flavor from the mustard relish and the onions generated an explosion on my taste buds.  the bacon was a nice addition and the cheese was gooey and made it just right.  the skinny fries were just ok. overall, the meal was awesome.....now, this is where it went from 4 stars to 1 star.....i went to the restroom to wash up since the burger was pretty messy.  when i got to the restroom i was appalled at how disgusting it was.  it was worse than a gas station bathroom.  the kicker was when i saw that the paper towels to wipe your hands were on top of the toilet.....whats the point of washing your hands when youre about to wipe it on towels that are contaminated from the toilet?!!!   see the pics i uploaded for details....youll notice the brown paper towels sitting on top of the toilet tank and that the spot on the wall where the dispenser is suppose to be mounted has spots where plaster was used to cover up the holes...the hand towels are almost touching the toilet seat!!!  ....someone must have pulled it off the wall....but theyre not going to replace it?  my issue with this is that is the same bathroom where the employees wash their hands.....gross.  to be fair, ive sent an email to their corporate office to make them aware of this situation....it cant be up to code...can it?  i hope not. will i return?  not until they fix the issue with the hand towels.',\n",
        " u'time to update my review.  this place has continued its downward spiral.  it hasnt improved one bit since my last review.  its actually gotten worse.  its dirty, smoky, and the people who hang out here are sketchy. we dropped in for a drink to check out the place on our last trip to vegas and we could barely stay long enough to finish it. i have fond memories of the old horseshoe.  it used to be the place to gamble downtown.  now, its become one of the worst places downtown.  benny binion has to be rolling over in his grave right now.',\n",
        " u'why did i walk back into this place?  i knew it was going to be a disappointment before i went there....but my friends insisted on checking it out for old times sake.  maybe i though it has improved since i moved away from vegas a few years ago....or perhaps i was holding on to the past when i remembered this place as a fun joint...silly me. the place is smoky and the crowd here is rough.  i didnt feel safe walking to/from the parking lot. the slot machines were busy and we didnt want to pull out our money on the blackjack tables with the rough looking crowd for fear wed get jacked in the parking lot.  we wanted to go to the steakhouse for dinner, but we just couldnt stand being on the property, so we decided to leave and go somewhere else.   im not coming back anytime soon.',\n",
        " u'time to update this review.  i remember when this mall was the place to come and shop....now, its one of the worst places to come and shop.  its been going downhill for years.   during a recent trip, i stopped by to see if it has gotten better...the mall is ghetto and isnt worth the effort.  i think its time to close it. ',\n",
        " u'this place has seen better days.....20+ yrs ago.  its a really tired casino.  they really need to put some serious money into it, or implode it and start over.  its too bad because i had some great times in here back in the early 90s.  now, i wouldnt recommend anyone to stay here. was here recently for a pool tournament.  the major pool leagues have their finals here every year.  it works great for the pool tournaments, but for the tourist/visitor, its not a good property.  stay somewhere else and play pool here during those events.',\n",
        " u'the last time i gave this place a try, the food sucked and i gave it 2 stars.  on a recent vegas trip my flight was at a gate nearby and i decided to give them another chance.   this time around, the food still sucked, but the employees are even worse.  heres what happened....i ordered the following items: bean, rice, cheese burrito $6.99 bottle of diet pepsi $3.19 since i had a backpack and other stuff in my hand, i forgot the bottle of diet pepsi at the counter after i paid for the meal.  i went to the counter to get settled in a spot to eat and get napkins, utensils, etc.  5 minutes later, they called my number for my burrito....i was starving, so i started to eat it.  after a few bites, i noticed that i didnt have my soda....where was it?  i looked around, went back to the counter.....the employees looked at me but didnt say anything.  i walked around again looking for it....then i said to the girl cashier \"i think i left my soda somewhere, have you seen it?\"  she said \"no\" then looked at one of the guys and said something in spanish to him.  he said, \"oh, i think i have it.  i found it on the counter\".  i watched as he reached into his backpack and gave it back to me.....wtf?!  i think they do this all the time, watch for people to leave stuff behind and then take it.  the appalling thing is that i was still in the restaurant!   i didnt say anything to them...it wouldve done no good anyway.  once a thief, always a thief. that does it for me, i will never eat here again.',\n",
        " u'rented a car from expedia from this thrifty location.  i found a decent deal for $30 a day for a compact car.....i thought i was getting a score.....then, i went to get the car.  lo and behold, what did they give me?  a freakin mini-van!  umm....yeah, i didnt order a mini-van!  but they said that was the only car they had left in that price range but for an extra $20 per day i could upgrade to a ford something or other.  well, i wasnt going to roll around in a mini-van, so i paid for the upgrade......classic bait and switch! i was so mad, but had to make the best of a bad situation.  i calmed down and went on my way.  never again will i rent from thrifty.',\n",
        " u'wanted to rent a car for the better half to use on a road trip and found this place on expedia.  it was the lowest priced car rental joint in the phoenix area, so we made a reservation.  when we arrived they asked her to provide a copy of 2 utility bills and a copy of our insurance....what?!  ive rented a car hundreds of times and have never heard of such a thing.  i thought i was going crazy and laughed....the person working the desk was serious.  they require 2 utility bills and a copy of your insurance?! to rent a friggin car?! fail i quickly jumped on my iphone and booked another reservation with enterprise.  10 min later, we were in our rental car. this company has no clue.  who the hell keeps a copy of their utility bills nowadays?  i dont.  i either have them electronically and dont have paper copies or i throw them away immediately.  this company is a pure joke in my mind.',\n",
        " u'one of the bad cab companies we used during a recent vegas trip.  the cab driver tried to long haul us when we asked him to drive us from the rio to the luxor.  instead of jumping on the i-15 and exiting on tropicana, he was going to take us one exit further, which would have cost us another $8-$10. when i asked him \"dude, are you going to exit on trop?\", he said \"youre going to the luxor right? im taking you there.\".....i said \"i used to live here for many yrs, dont bulls__t me and exit on trop.\" he did and wasnt happy about it.  guess what, he got $0 tip from me.  they get a % of their fare anyway and we cant control that....but the last thing i was going to do was give this guy a tip for trying to long haul me.',\n",
        " u'***update 7/27/2010*** i workout at the 24 hour fitness next to chronic tacos and came out to find chronic tacos flyers on the cars in the parking lot, including mine (see pics).  thats lame, taking to sleazy nightclub tactics to promote the business....blech!  one more reason not to go there for me. ***original review*** i passed by this place yesterday after having lunch at upper crust pizza....it was very busy and looked cool, so i said i would try it the next day. well....i stopped by for lunch after a workout at the gym.  it was 12:15 pm and there was a big line of about 20 people.  i decided to wait it out and see what everyone was waiting for.  while i was in line, it grew to about 30 people. the place is decorated like a teenagers bedroom.  the walls are made of plywood and you are encouraged to tag up the walls with whatever (see pics).  i think the owners are mma fans because there were mma magazines all over the place and the guy who brought out my food had a mma t-shirt and hat. food - i was going to try a carne asada burrito, but i wanted to try 2 dishes, so i opted for the nachos (no meat) and a carne asada fatty taco.  its a typical setup like you find at qdoba/zabas/chipotle where you order your food and you move down a line of people to add the toppings. the carne asada taco ordering process went smoothly, but the nachos didnt....they forgot to make it as they rely on someone in the back whos not part of the assembly line to make it.  they yell out the order and i guess someone is suppose to pay attention and make it....well, they didnt.  no big deal at this point, its only nachos and it doesnt take a long time to make those....so, they told me when i paid that they would bring it out. i had a pretty good workout and built up a huge appetite, so i scarfed down the carne asada taco while i waited for the nachos.....it was pretty good, not great but good....nice flavor but it wasnt \"authentic\".  i guess growing up in socal makes you a mexi-snob when it comes to mexican food. after a few minutes my nachos came out....i was surprised to see that there was only cheese on top of chips.  normally at baja fresh/qdoba/chipotle/zabas nachos are fully loaded with all the toppings....hell, i even paid extra for guacamole.  i asked the guy who brought them about it, he apologized about the guac and said he would come back with a cup of it....but he said thats how the nachos with no meat are prepared, with just cheese.  what a disappointment! to make matters worse, the cheese is shredded cheese that they melt on top of the chips....that in and of itself isnt that big a deal....what was really a big deal is that the cheese wasnt fully melted, just the top of it so it didnt stick to the chips and it fell all over the place because it was still cold and shredded underneath (see pics for details).  the guacamole was bland too.  i still ate it because i was hungry.  what a bad meal....i should have went somewhere else. the place was crowded and the majority of the people in there were younger (early 20s and teens)....i guess they like the atmosphere.  since i dont follow mma at all, it didnt appeal to me.....and the years of writing crap on the walls are decades behind me. i would have rated the place 2 stars if the line was shorter...but because the hype was built up and it didnt deliver, i gave it 1 star.  its the 1st 1 star joint ive rated. will i return?  nah.....unless someone else was paying the bill.']"
       ]
      }
     ],
     "prompt_number": 322
    },
    {
     "cell_type": "code",
     "collapsed": false,
     "input": [
      "for i in range(2):\n",
      "    v = vectorizer.fit_transform([c[1] for c in reviews if c[0] == i])\n",
      "    print(\"Top 5 words in cluster{}\".format(i+1))\n",
      "    words = v[i].data.argsort()[-5:]\n",
      "   \n",
      "    for (j,k) in izip(v[i].indices[words], v[i].data[words]):\n",
      "        print(\"\\tWord: {}, TF-IDF: {}\".format(vectorizer.get_feature_names()[j], k))"
     ],
     "language": "python",
     "metadata": {},
     "outputs": [
      {
       "output_type": "stream",
       "stream": "stdout",
       "text": [
        "Top 5 words in cluster1\n",
        "\tWord: casualty, TF-IDF: 0.279109926551\n",
        "\tWord: dust, TF-IDF: 0.336242229283\n",
        "\tWord: bites, TF-IDF: 0.336242229283\n",
        "\tWord: gone, TF-IDF: 0.336242229283\n",
        "\tWord: location, TF-IDF: 0.336242229283\n",
        "Top 5 words in cluster2\n",
        "\tWord: fond, TF-IDF: 0.161395311764\n",
        "\tWord: drink, TF-IDF: 0.161395311764\n",
        "\tWord: place, TF-IDF: 0.214936047216\n",
        "\tWord: review, TF-IDF: 0.240068904913\n",
        "\tWord: downtown, TF-IDF: 0.322790623528\n"
       ]
      }
     ],
     "prompt_number": 317
    },
    {
     "cell_type": "code",
     "collapsed": false,
     "input": [
      "clusterone = [c[1] for c in reviews if c[0] == 1]\n",
      "sentences = []\n",
      "for c in clusterone:\n",
      "    for s in TextBlob(c).sentences:\n",
      "        sentences.append(s)"
     ],
     "language": "python",
     "metadata": {},
     "outputs": [],
     "prompt_number": 326
    },
    {
     "cell_type": "code",
     "collapsed": false,
     "input": [
      "worst = []\n",
      "top_words = ['casualty', 'dust', 'bites', 'gone', 'location']\n",
      "#top_words = ['absolutely', 'dishes', 'lunch', 'eating', 'garlic']\n",
      "for s in sentences:\n",
      "    for w in top_words:\n",
      "        if w in s:\n",
      "            worst.append(s)"
     ],
     "language": "python",
     "metadata": {},
     "outputs": [],
     "prompt_number": 327
    },
    {
     "cell_type": "code",
     "collapsed": false,
     "input": [],
     "language": "python",
     "metadata": {},
     "outputs": []
    },
    {
     "cell_type": "code",
     "collapsed": false,
     "input": [
      "for s in worst:\n",
      "    f = s.sentiment\n",
      "    print f, s"
     ],
     "language": "python",
     "metadata": {},
     "outputs": [
      {
       "output_type": "stream",
       "stream": "stdout",
       "text": [
        "Sentiment(polarity=0.0, subjectivity=0.0) i havent been to fatburger in a while and this was my 1st time to visit this location.\n",
        "Sentiment(polarity=0.0, subjectivity=0.0) im a fan of fatburger, but not this location.\n",
        "Sentiment(polarity=-0.2, subjectivity=0.1) after a few bites, i noticed that i didnt have my soda....where was it?\n",
        "Sentiment(polarity=0.0, subjectivity=0.0) rented a car from expedia from this thrifty location.\n"
       ]
      }
     ],
     "prompt_number": 328
    },
    {
     "cell_type": "code",
     "collapsed": false,
     "input": [],
     "language": "python",
     "metadata": {},
     "outputs": []
    }
   ],
   "metadata": {}
  }
 ]
}