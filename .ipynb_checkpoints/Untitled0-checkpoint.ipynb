{
 "metadata": {
  "name": "",
  "signature": "sha256:2bb1a06ce541ac4f4e9df1fca1b8094d0f62ff25be0b25e2c89981be40b7a25f"
 },
 "nbformat": 3,
 "nbformat_minor": 0,
 "worksheets": []
}