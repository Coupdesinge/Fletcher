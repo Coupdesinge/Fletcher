{
 "metadata": {
  "name": "",
  "signature": "sha256:d659aa67d6b0343d58d97c1de9bc61a06f3965f84b1390b4d89b361dffff120e"
 },
 "nbformat": 3,
 "nbformat_minor": 0,
 "worksheets": [
  {
   "cells": [
    {
     "cell_type": "markdown",
     "metadata": {},
     "source": [
      "user_1 --> kGgAARL2UmvCcTRfiscjug\n",
      "user_2 --> Iu3Jo9ROp2IWC9FwtWOaUQ\n",
      "user_3 --> uglRXVWWD6x1EZKfjJawTOg\n",
      "user_4 --> lHHwLi_YZuDSfdlSShFkug"
     ]
    },
    {
     "cell_type": "code",
     "collapsed": false,
     "input": [
      "from pymongo import MongoClient"
     ],
     "language": "python",
     "metadata": {},
     "outputs": [],
     "prompt_number": 1
    },
    {
     "cell_type": "code",
     "collapsed": false,
     "input": [
      "who"
     ],
     "language": "python",
     "metadata": {},
     "outputs": [
      {
       "output_type": "stream",
       "stream": "stdout",
       "text": [
        "MongoClient\t c\t \n"
       ]
      }
     ],
     "prompt_number": 16
    },
    {
     "cell_type": "markdown",
     "metadata": {},
     "source": [
      "mongodb://[username:password@]host1[:port1][,host2[:port2],...[,hostN[:portN]]][/[database][?options]]"
     ]
    },
    {
     "cell_type": "code",
     "collapsed": false,
     "input": [
      "c = MongoClient('104.131.100.123')"
     ],
     "language": "python",
     "metadata": {},
     "outputs": [],
     "prompt_number": 12
    },
    {
     "cell_type": "code",
     "collapsed": false,
     "input": [
      "c.yelp.authenticate('kate', '1Austincat')"
     ],
     "language": "python",
     "metadata": {},
     "outputs": [
      {
       "metadata": {},
       "output_type": "pyout",
       "prompt_number": 17,
       "text": [
        "True"
       ]
      }
     ],
     "prompt_number": 17
    },
    {
     "cell_type": "code",
     "collapsed": false,
     "input": [
      "c.yelp.reviews.find().next()"
     ],
     "language": "python",
     "metadata": {},
     "outputs": [
      {
       "metadata": {},
       "output_type": "pyout",
       "prompt_number": 18,
       "text": [
        "{u'_id': ObjectId('54457edb6ed5c8139ed52e92'),\n",
        " u'business_id': u'vcNAWiLM4dR7D2nwwJ7nCA',\n",
        " u'date': u'2007-05-17',\n",
        " u'review_id': u'15SdjuK7DmYqUAj6rjGowg',\n",
        " u'stars': 5,\n",
        " u'text': u\"dr. goldberg offers everything i look for in a general practitioner.  he's nice and easy to talk to without being patronizing; he's always on time in seeing his patients; he's affiliated with a top-notch hospital (nyu) which my parents have explained to me is very important in case something happens and you need surgery; and you can get referrals to see specialists without having to see him first.  really, what more do you need?  i'm sitting here trying to think of any complaints i have about him, but i'm really drawing a blank.\",\n",
        " u'type': u'review',\n",
        " u'user_id': u'Xqd0DzHaiyRqVH3WRG7hzg',\n",
        " u'votes': {u'cool': 1, u'funny': 0, u'useful': 2}}"
       ]
      }
     ],
     "prompt_number": 18
    },
    {
     "cell_type": "code",
     "collapsed": false,
     "input": [
      "yelp = c.yelp"
     ],
     "language": "python",
     "metadata": {},
     "outputs": [],
     "prompt_number": 19
    },
    {
     "cell_type": "code",
     "collapsed": false,
     "input": [
      "yelp.users.find().next()"
     ],
     "language": "python",
     "metadata": {},
     "outputs": [
      {
       "metadata": {},
       "output_type": "pyout",
       "prompt_number": 20,
       "text": [
        "{u'_id': ObjectId('544580f66ed5c8139ee65ae4'),\n",
        " u'average_stars': 3.83,\n",
        " u'compliments': {},\n",
        " u'elite': [],\n",
        " u'fans': 0,\n",
        " u'friends': [],\n",
        " u'name': u'Lee',\n",
        " u'review_count': 6,\n",
        " u'type': u'user',\n",
        " u'user_id': u'qtrmBGNqCvupHMHL_bKFgQ',\n",
        " u'votes': {u'cool': 0, u'funny': 1, u'useful': 5},\n",
        " u'yelping_since': u'2012-02'}"
       ]
      }
     ],
     "prompt_number": 20
    },
    {
     "cell_type": "code",
     "collapsed": false,
     "input": [
      "yelp.users.count()"
     ],
     "language": "python",
     "metadata": {},
     "outputs": [
      {
       "metadata": {},
       "output_type": "pyout",
       "prompt_number": 21,
       "text": [
        "252898"
       ]
      }
     ],
     "prompt_number": 21
    },
    {
     "cell_type": "code",
     "collapsed": false,
     "input": [
      "yelp.reviews.count()"
     ],
     "language": "python",
     "metadata": {},
     "outputs": [
      {
       "metadata": {},
       "output_type": "pyout",
       "prompt_number": 22,
       "text": [
        "1125458"
       ]
      }
     ],
     "prompt_number": 22
    },
    {
     "cell_type": "code",
     "collapsed": false,
     "input": [
      "#metal.find('year':2000).count()\n",
      "yelp.reviews.find({'user_id': u'Xqd0DzHaiyRqVH3WRG7hzg'}).count()"
     ],
     "language": "python",
     "metadata": {},
     "outputs": [
      {
       "metadata": {},
       "output_type": "pyout",
       "prompt_number": 32,
       "text": [
        "1"
       ]
      }
     ],
     "prompt_number": 32
    },
    {
     "cell_type": "code",
     "collapsed": false,
     "input": [
      "#find user id with most yelp reviews.\n",
      "#make a dict the reviewer id, and number of reviews."
     ],
     "language": "python",
     "metadata": {},
     "outputs": [],
     "prompt_number": 28
    },
    {
     "cell_type": "code",
     "collapsed": false,
     "input": [
      "yelp.business.find().next()"
     ],
     "language": "python",
     "metadata": {},
     "outputs": [
      {
       "metadata": {},
       "output_type": "pyout",
       "prompt_number": 55,
       "text": [
        "{u'_id': ObjectId('5445812b6ed5c8139eea36c6'),\n",
        " u'attributes': {u'By Appointment Only': True},\n",
        " u'business_id': u'vcNAWiLM4dR7D2nwwJ7nCA',\n",
        " u'categories': [u'Doctors', u'Health & Medical'],\n",
        " u'city': u'Phoenix',\n",
        " u'full_address': u'4840 E Indian School Rd\\nSte 101\\nPhoenix, AZ 85018',\n",
        " u'hours': {u'Friday': {u'close': u'17:00', u'open': u'08:00'},\n",
        "  u'Monday': {u'close': u'17:00', u'open': u'08:00'},\n",
        "  u'Thursday': {u'close': u'17:00', u'open': u'08:00'},\n",
        "  u'Tuesday': {u'close': u'17:00', u'open': u'08:00'},\n",
        "  u'Wednesday': {u'close': u'17:00', u'open': u'08:00'}},\n",
        " u'latitude': 33.499313,\n",
        " u'longitude': -111.983758,\n",
        " u'name': u'Eric Goldberg, MD',\n",
        " u'neighborhoods': [],\n",
        " u'open': True,\n",
        " u'review_count': 7,\n",
        " u'stars': 3.5,\n",
        " u'state': u'AZ',\n",
        " u'type': u'business'}"
       ]
      }
     ],
     "prompt_number": 55
    },
    {
     "cell_type": "code",
     "collapsed": false,
     "input": [],
     "language": "python",
     "metadata": {},
     "outputs": [],
     "prompt_number": 41
    },
    {
     "cell_type": "code",
     "collapsed": false,
     "input": [
      "from collections import defaultdict"
     ],
     "language": "python",
     "metadata": {},
     "outputs": [],
     "prompt_number": 35
    },
    {
     "cell_type": "code",
     "collapsed": false,
     "input": [
      "reviewers = [r['user_id'] for r in list(yelp.reviews.find())]"
     ],
     "language": "python",
     "metadata": {},
     "outputs": [],
     "prompt_number": 36
    },
    {
     "cell_type": "code",
     "collapsed": false,
     "input": [
      "import sys"
     ],
     "language": "python",
     "metadata": {},
     "outputs": [],
     "prompt_number": 57
    },
    {
     "cell_type": "code",
     "collapsed": false,
     "input": [
      "sys.getsizeof(reviewers)"
     ],
     "language": "python",
     "metadata": {},
     "outputs": [
      {
       "metadata": {},
       "output_type": "pyout",
       "prompt_number": 58,
       "text": [
        "9784704"
       ]
      }
     ],
     "prompt_number": 58
    },
    {
     "cell_type": "code",
     "collapsed": false,
     "input": [
      "review_count = defaultdict(int)\n",
      "for r in reviewers:\n",
      "    review_count[r] += 1"
     ],
     "language": "python",
     "metadata": {},
     "outputs": [],
     "prompt_number": 43
    },
    {
     "cell_type": "code",
     "collapsed": false,
     "input": [
      "sorted_counts = sorted(review_count.items(), key=lambda x: x[1], reverse=True)\n",
      "for user, count in sorted_counts[:10]:\n",
      "    print user\n",
      "    print count"
     ],
     "language": "python",
     "metadata": {},
     "outputs": [
      {
       "output_type": "stream",
       "stream": "stdout",
       "text": [
        "kGgAARL2UmvCcTRfiscjug\n",
        "1399\n",
        "ikm0UCahtK34LbLCEw4YTw\n",
        "1137\n",
        "Iu3Jo9ROp2IWC9FwtWOaUQ\n",
        "1046\n",
        "glRXVWWD6x1EZKfjJawTOg\n",
        "1013\n",
        "PV5voYSD43Cn_3gHmxG7DA\n",
        "895\n",
        "fczQCSmaWF78toLEmb0Zsw\n",
        "872\n",
        "lHHwLi_YZuDSfdlSShFkug\n",
        "816\n",
        "ia1nTRAQEaFWv0cwADeK7g\n",
        "811\n",
        "3gIfcQq5KxAegwCPXc83cQ\n",
        "790\n",
        "DrWLhrK8WMZf7Jb-Oqc7ww\n",
        "765\n"
       ]
      }
     ],
     "prompt_number": 49
    },
    {
     "cell_type": "code",
     "collapsed": false,
     "input": [
      "user_1 = [r for r in list(yelp.reviews.find({'user_id': u'kGgAARL2UmvCcTRfiscjug'}))]"
     ],
     "language": "python",
     "metadata": {},
     "outputs": [],
     "prompt_number": 50
    },
    {
     "cell_type": "code",
     "collapsed": false,
     "input": [
      "businesses = [r['business_id'] for r in list(yelp.reviews.find())]"
     ],
     "language": "python",
     "metadata": {},
     "outputs": [],
     "prompt_number": 56
    },
    {
     "cell_type": "code",
     "collapsed": false,
     "input": [
      "business_count = defaultdict(int)\n",
      "for r in businesses:\n",
      "    business_count[r] += 1"
     ],
     "language": "python",
     "metadata": {},
     "outputs": [],
     "prompt_number": 59
    },
    {
     "cell_type": "code",
     "collapsed": false,
     "input": [
      "sorted_biz_counts = sorted(business_count.items(), key=lambda x: x[1], reverse=True)\n",
      "for biz, count in sorted_biz_counts[:10]:\n",
      "    print biz\n",
      "    print count"
     ],
     "language": "python",
     "metadata": {},
     "outputs": [
      {
       "output_type": "stream",
       "stream": "stdout",
       "text": [
        "4bEjOyTaDG24SY5TxsaUNQ\n",
        "3695\n",
        "2e2e7WgqU1BnpxmQL5jbfw\n",
        "3263\n",
        "zt1TpTuJ6y9n551sw9TaEg\n",
        "3011\n",
        "YNQgak-ZLtYJQxlDwN-qIg\n",
        "2494\n",
        "Xhg93cMdemu5pAMkDoEdtQ\n",
        "2399\n",
        "tFU2Js_nbIZOrnKfYJYBBg\n",
        "2203\n",
        "CZjcFdvJhksq9dy58NVEzw\n",
        "2122\n",
        "sIyHTizqAiGu12XMLX3N3g\n",
        "2090\n",
        "AtjsjFzalWqJ7S9DUFQ4bw\n",
        "2036\n",
        "xfwRO04KbAPw_zRotCfWQQ\n",
        "2027\n"
       ]
      }
     ],
     "prompt_number": 60
    },
    {
     "cell_type": "code",
     "collapsed": false,
     "input": [
      "yelp.business.find({'business_id': u'4bEjOyTaDG24SY5TxsaUNQ'}).next()"
     ],
     "language": "python",
     "metadata": {},
     "outputs": [
      {
       "metadata": {},
       "output_type": "pyout",
       "prompt_number": 69,
       "text": [
        "{u'_id': ObjectId('5445812c6ed5c8139eea6595'),\n",
        " u'attributes': {u'Accepts Credit Cards': True,\n",
        "  u'Alcohol': u'full_bar',\n",
        "  u'Ambience': {u'casual': False,\n",
        "   u'classy': True,\n",
        "   u'divey': False,\n",
        "   u'hipster': False,\n",
        "   u'intimate': False,\n",
        "   u'romantic': True,\n",
        "   u'touristy': False,\n",
        "   u'trendy': False,\n",
        "   u'upscale': False},\n",
        "  u'Attire': u'casual',\n",
        "  u'BYOB': False,\n",
        "  u'BYOB/Corkage': u'no',\n",
        "  u'Caters': False,\n",
        "  u'Corkage': True,\n",
        "  u'Delivery': False,\n",
        "  u'Good For': {u'breakfast': False,\n",
        "   u'brunch': False,\n",
        "   u'dessert': False,\n",
        "   u'dinner': True,\n",
        "   u'latenight': False,\n",
        "   u'lunch': False},\n",
        "  u'Good For Groups': True,\n",
        "  u'Good For Kids': False,\n",
        "  u'Good for Kids': False,\n",
        "  u'Has TV': False,\n",
        "  u'Noise Level': u'average',\n",
        "  u'Open 24 Hours': False,\n",
        "  u'Outdoor Seating': True,\n",
        "  u'Parking': {u'garage': True,\n",
        "   u'lot': False,\n",
        "   u'street': False,\n",
        "   u'valet': False,\n",
        "   u'validated': False},\n",
        "  u'Price Range': 2,\n",
        "  u'Take-out': False,\n",
        "  u'Takes Reservations': True,\n",
        "  u'Waiter Service': True,\n",
        "  u'Wheelchair Accessible': True,\n",
        "  u'Wi-Fi': u'no'},\n",
        " u'business_id': u'4bEjOyTaDG24SY5TxsaUNQ',\n",
        " u'categories': [u'Breakfast & Brunch',\n",
        "  u'Steakhouses',\n",
        "  u'French',\n",
        "  u'Restaurants'],\n",
        " u'city': u'Las Vegas',\n",
        " u'full_address': u'3655 Las Vegas Blvd S\\nThe Strip\\nLas Vegas, NV 89109',\n",
        " u'hours': {u'Friday': {u'close': u'00:00', u'open': u'07:00'},\n",
        "  u'Monday': {u'close': u'23:00', u'open': u'07:00'},\n",
        "  u'Saturday': {u'close': u'00:00', u'open': u'07:00'},\n",
        "  u'Sunday': {u'close': u'23:00', u'open': u'07:00'},\n",
        "  u'Thursday': {u'close': u'23:00', u'open': u'07:00'},\n",
        "  u'Tuesday': {u'close': u'23:00', u'open': u'07:00'},\n",
        "  u'Wednesday': {u'close': u'23:00', u'open': u'07:00'}},\n",
        " u'latitude': 36.1129524773428,\n",
        " u'longitude': -115.172588519464,\n",
        " u'name': u'Mon Ami Gabi',\n",
        " u'neighborhoods': [u'The Strip'],\n",
        " u'open': True,\n",
        " u'review_count': 4084,\n",
        " u'stars': 4.0,\n",
        " u'state': u'NV',\n",
        " u'type': u'business'}"
       ]
      }
     ],
     "prompt_number": 69
    },
    {
     "cell_type": "code",
     "collapsed": false,
     "input": [
      "#get all reviewer id's for business with id 4bEjOyTaDG24SY5TxsaUNQ"
     ],
     "language": "python",
     "metadata": {},
     "outputs": [],
     "prompt_number": 62
    },
    {
     "cell_type": "code",
     "collapsed": false,
     "input": [
      "reviewer_ids = [r['user_id'] for r in list(yelp.reviews.find({'business_id': u'4bEjOyTaDG24SY5TxsaUNQ'}))]"
     ],
     "language": "python",
     "metadata": {},
     "outputs": [],
     "prompt_number": 63
    },
    {
     "cell_type": "code",
     "collapsed": false,
     "input": [
      "reviewer_ids[0]"
     ],
     "language": "python",
     "metadata": {},
     "outputs": [
      {
       "metadata": {},
       "output_type": "pyout",
       "prompt_number": 65,
       "text": [
        "u'LAOHN2Z6INbwuGa3fx9UTw'"
       ]
      }
     ],
     "prompt_number": 65
    },
    {
     "cell_type": "code",
     "collapsed": false,
     "input": [
      "#print numbers of reviews for each reviewer"
     ],
     "language": "python",
     "metadata": {},
     "outputs": [],
     "prompt_number": 67
    },
    {
     "cell_type": "code",
     "collapsed": false,
     "input": [
      "vegas_resto_reviewers = []\n",
      "for reviewer in reviewer_ids:\n",
      "    vegas_resto_reviewers.append((reviewer, review_count[reviewer]))"
     ],
     "language": "python",
     "metadata": {},
     "outputs": [],
     "prompt_number": 73
    },
    {
     "cell_type": "code",
     "collapsed": false,
     "input": [
      "vegas_resto_reviewers.sort(key=lambda tup: tup[1], reverse=True)"
     ],
     "language": "python",
     "metadata": {},
     "outputs": [],
     "prompt_number": 83
    },
    {
     "cell_type": "code",
     "collapsed": false,
     "input": [
      "vegas_resto_reviewers[:10]"
     ],
     "language": "python",
     "metadata": {},
     "outputs": [
      {
       "metadata": {},
       "output_type": "pyout",
       "prompt_number": 84,
       "text": [
        "[(u'kGgAARL2UmvCcTRfiscjug', 1399),\n",
        " (u'Iu3Jo9ROp2IWC9FwtWOaUQ', 1046),\n",
        " (u'glRXVWWD6x1EZKfjJawTOg', 1013),\n",
        " (u'lHHwLi_YZuDSfdlSShFkug', 816),\n",
        " (u'ia1nTRAQEaFWv0cwADeK7g', 811),\n",
        " (u'3gIfcQq5KxAegwCPXc83cQ', 790),\n",
        " (u'3gIfcQq5KxAegwCPXc83cQ', 790),\n",
        " (u'uZbTb-u-GVjTa2gtQfry5g', 751),\n",
        " (u'5lq4LkrviYgQ4LJNsBYHcA', 582),\n",
        " (u'EjhVxYFeMUYimoImjMduzQ', 545)]"
       ]
      }
     ],
     "prompt_number": 84
    },
    {
     "cell_type": "code",
     "collapsed": false,
     "input": [
      "who"
     ],
     "language": "python",
     "metadata": {},
     "outputs": [
      {
       "output_type": "stream",
       "stream": "stdout",
       "text": [
        "MongoClient\t biz\t business_count\t businesses\t c\t count\t defaultdict\t r\t review_count\t \n",
        "reviewer\t reviewers\t sorted_biz_counts\t sorted_counts\t sys\t user\t user_1\t vegas_resto_reviewers\t yelp\t \n",
        "\n"
       ]
      }
     ],
     "prompt_number": 88
    },
    {
     "cell_type": "code",
     "collapsed": false,
     "input": [
      "vegas_resto = [r for r in list(yelp.reviews.find({'business_id': u'4bEjOyTaDG24SY5TxsaUNQ'}))]"
     ],
     "language": "python",
     "metadata": {},
     "outputs": [],
     "prompt_number": 89
    },
    {
     "cell_type": "code",
     "collapsed": false,
     "input": [
      "vegas_resto[5]"
     ],
     "language": "python",
     "metadata": {},
     "outputs": [
      {
       "metadata": {},
       "output_type": "pyout",
       "prompt_number": 91,
       "text": [
        "{u'_id': ObjectId('54457efa6ed5c8139ed99d84'),\n",
        " u'business_id': u'4bEjOyTaDG24SY5TxsaUNQ',\n",
        " u'date': u'2006-01-31',\n",
        " u'review_id': u'M6U9acJkmCXZkEvIIDFtfQ',\n",
        " u'stars': 5,\n",
        " u'text': u\"Yippy!  Make-your-own bloody mary bar! Chose the vodka and go to town.  They have recipies to help you out if you need it.  We tried Mon Ami Gabi for Sunday brunch.  First off, I loved eating in the atrium (light, airy and classic), and probably prefered it to eating outside (who wants to feel like they're right on the strip amidst icky large groups and las vegas grime while spending a bit for brunch?).  Secondly, the service was OUTSTANDING.  The waitress even put in a special request for a specific  crepe filling not on the menu (the kitchen made it- smoked salmon, egg and jack cheese if you're curious).  Crepes were enormous and delicious (just too bad I couldn't lug a doggie bag around with me all day).  Not too expensive ($50 with tax and tip and champagne) .Yumyumyum. Will definatley go again.\",\n",
        " u'type': u'review',\n",
        " u'user_id': u'DeBP40aPIRv3h1ED17X4Qg',\n",
        " u'votes': {u'cool': 0, u'funny': 1, u'useful': 0}}"
       ]
      }
     ],
     "prompt_number": 91
    },
    {
     "cell_type": "code",
     "collapsed": false,
     "input": [
      "user_2 = [r for r in list(yelp.reviews.find({'user_id': u'Iu3Jo9ROp2IWC9FwtWOaUQ'}))]"
     ],
     "language": "python",
     "metadata": {},
     "outputs": [],
     "prompt_number": 92
    },
    {
     "cell_type": "code",
     "collapsed": false,
     "input": [
      "user_1[0]"
     ],
     "language": "python",
     "metadata": {},
     "outputs": [
      {
       "metadata": {},
       "output_type": "pyout",
       "prompt_number": 95,
       "text": [
        "{u'_id': ObjectId('54457edb6ed5c8139ed53ef9'),\n",
        " u'business_id': u'45puCRQ6Vh_IIAy7kkfFDQ',\n",
        " u'date': u'2011-04-15',\n",
        " u'review_id': u'fZIKNRMfZ86yrmwWYuib-Q',\n",
        " u'stars': 2,\n",
        " u'text': u\"Wow, what a disappointment!  I was not impressed with this place.  It was the night of the NCAA BB Finals and the front bar was too packed.  We went to the the back room and small patio area to join some friends who were part of a large party.  \\n\\nThere was hardly any room back there either and the server ignored us for most of the night.  We had to serve ourselves by going into the bar.  We also had to bus our own tables because nobody came out to clean up.  Also, the back room was very muggy and humid....this can't be the first time they've done large parties, right?!\\n\\nLike I said, I expected more out of this place and left disappointed.\\n\\nReturn Factor - 10%\",\n",
        " u'type': u'review',\n",
        " u'user_id': u'kGgAARL2UmvCcTRfiscjug',\n",
        " u'votes': {u'cool': 2, u'funny': 1, u'useful': 2}}"
       ]
      }
     ],
     "prompt_number": 95
    },
    {
     "cell_type": "code",
     "collapsed": false,
     "input": [
      "user_3 =[r for r in list(yelp.reviews.find({'user_id':'uglRXVWWD6x1EZKfjJawTOg'}))]"
     ],
     "language": "python",
     "metadata": {},
     "outputs": [],
     "prompt_number": 96
    },
    {
     "cell_type": "code",
     "collapsed": false,
     "input": [
      "import pickle\n",
      "with open('restaurant.pck', 'w') as picklefile:\n",
      "    pickle.dump(vegas_resto, picklefile)"
     ],
     "language": "python",
     "metadata": {},
     "outputs": [],
     "prompt_number": 99
    },
    {
     "cell_type": "code",
     "collapsed": false,
     "input": [
      "with open('user_1.pck', 'w') as picklefile:\n",
      "    pickle.dump(user_1, picklefile)"
     ],
     "language": "python",
     "metadata": {},
     "outputs": [],
     "prompt_number": 101
    },
    {
     "cell_type": "code",
     "collapsed": false,
     "input": [
      "with open('user_2.pck', 'w') as picklefile:\n",
      "    pickle.dump(user_2, picklefile)"
     ],
     "language": "python",
     "metadata": {},
     "outputs": [],
     "prompt_number": 103
    },
    {
     "cell_type": "code",
     "collapsed": false,
     "input": [
      "with open('user_3.pck', 'w') as picklefile:\n",
      "    pickle.dump(user_3, picklefile)"
     ],
     "language": "python",
     "metadata": {},
     "outputs": [],
     "prompt_number": 105
    },
    {
     "cell_type": "code",
     "collapsed": false,
     "input": [
      "user_4 =[r for r in list(yelp.reviews.find({'user_id':'lHHwLi_YZuDSfdlSShFkug'}))]"
     ],
     "language": "python",
     "metadata": {},
     "outputs": [],
     "prompt_number": 106
    },
    {
     "cell_type": "code",
     "collapsed": false,
     "input": [
      "with open('user_4.pck', 'w') as picklefile:\n",
      "    pickle.dump(user_4, picklefile)"
     ],
     "language": "python",
     "metadata": {},
     "outputs": [],
     "prompt_number": 107
    },
    {
     "cell_type": "code",
     "collapsed": false,
     "input": [],
     "language": "python",
     "metadata": {},
     "outputs": []
    }
   ],
   "metadata": {}
  }
 ]
}