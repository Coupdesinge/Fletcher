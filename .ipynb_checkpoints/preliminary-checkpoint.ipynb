{
 "metadata": {
  "name": "",
  "signature": "sha256:1897e121f54f61f56b9ebef0cbbc82fe8ba831027481549e68ea53395bb9a3e7"
 },
 "nbformat": 3,
 "nbformat_minor": 0,
 "worksheets": [
  {
   "cells": [
    {
     "cell_type": "code",
     "collapsed": false,
     "input": [
      "import pickle\n",
      "with open('pickefiles/user_1.pck', 'r') as picklefile:\n",
      "    data = pickle.load(picklefile)\n"
     ],
     "language": "python",
     "metadata": {},
     "outputs": []
    }
   ],
   "metadata": {}
  }
 ]
}